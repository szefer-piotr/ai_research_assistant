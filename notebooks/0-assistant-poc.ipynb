{
 "cells": [
  {
   "cell_type": "code",
   "execution_count": 41,
   "metadata": {},
   "outputs": [],
   "source": [
    "import os\n",
    "import openai\n",
    "import pandas as pd\n",
    "from io import StringIO\n",
    "from langchain_openai import ChatOpenAI\n",
    "from langchain.chains.llm import LLMChain\n",
    "from langchain.prompts import PromptTemplate\n",
    "# If you want to chunk PDF text, you can also import TextSplitter utilities:\n",
    "# from langchain.text_splitter import RecursiveCharacterTextSplitter\n",
    "import PyPDF2\n",
    "from dotenv import load_dotenv\n",
    "import os"
   ]
  },
  {
   "cell_type": "markdown",
   "metadata": {},
   "source": [
    "## 1. Configure OpenAI Keys"
   ]
  },
  {
   "cell_type": "code",
   "execution_count": 42,
   "metadata": {},
   "outputs": [],
   "source": [
    "load_dotenv()\n",
    "OPENAI_API_KEY= os.getenv('OPENAI_API_KEY')\n",
    "# In code, you might do:\n",
    "# openai.api_key = os.getenv(\"OPENAI_API_KEY\")"
   ]
  },
  {
   "cell_type": "markdown",
   "metadata": {},
   "source": [
    "## 2. Helper Functions"
   ]
  },
  {
   "cell_type": "code",
   "execution_count": 43,
   "metadata": {},
   "outputs": [],
   "source": [
    "def extract_text_from_pdf(pdf_path: str) -> str:\n",
    "    \"\"\"\n",
    "    Extract all text from a PDF file using PyPDF2.\n",
    "    \"\"\"\n",
    "    text_content = []\n",
    "    with open(pdf_path, 'rb') as f:\n",
    "        reader = PyPDF2.PdfReader(f)\n",
    "        for page in reader.pages:\n",
    "            text_content.append(page.extract_text())\n",
    "    return \"\\n\".join(text_content)\n",
    "\n",
    "# def extract_methodology_section(full_text: str) -> str:\n",
    "#     \"\"\"\n",
    "#     A naive approach to extract only the 'Methodology' section from\n",
    "#     the full PDF text. Adjust to your own needs. \n",
    "#     \"\"\"\n",
    "#     # Example: Find the text from 'Methodology' heading to next heading like 'Results'\n",
    "#     # This is very simplistic and might need to handle text structures properly.\n",
    "#     start_keyword = \"Methods\"\n",
    "#     end_keywords = [\"Results\", \"Analysis\", \"Discussion\", \"Conclusion\"]\n",
    "    \n",
    "#     start_index = full_text.lower().find(start_keyword.lower())\n",
    "#     if start_index == -1:\n",
    "#         return \"\"\n",
    "    \n",
    "#     # Search for the earliest next section heading\n",
    "#     subsequent_indices = []\n",
    "#     for ek in end_keywords:\n",
    "#         idx = full_text.lower().find(ek.lower(), start_index + len(start_keyword))\n",
    "#         if idx != -1:\n",
    "#             subsequent_indices.append(idx)\n",
    "    \n",
    "#     if not subsequent_indices:\n",
    "#         # If we don't find any subsequent heading, take everything after 'Methodology'\n",
    "#         return full_text[start_index:]\n",
    "    \n",
    "#     end_index = min(subsequent_indices)\n",
    "#     return full_text[start_index:end_index]\n",
    "\n",
    "# import xml.etree.ElementTree as ET\n",
    "\n",
    "# Function to create XML structure\n",
    "# def create_xml_summary(dataset_summary):\n",
    "#     root = ET.Element(\"dataset\")\n",
    "#     sheets_elem = ET.SubElement(root, \"sheets\")\n",
    "    \n",
    "#     for sheet_name, sheet_data in dataset_summary.items():\n",
    "#         sheet_elem = ET.SubElement(sheets_elem, \"sheet\", name=sheet_name)\n",
    "        \n",
    "#         description_elem = ET.SubElement(sheet_elem, \"description\")\n",
    "#         description_elem.text = sheet_data.get(\"description\", \"No description\")\n",
    "        \n",
    "#         columns_elem = ET.SubElement(sheet_elem, \"columns\")\n",
    "#         for col_name, col_data in sheet_data[\"columns\"].items():\n",
    "#             column_elem = ET.SubElement(columns_elem, \"column\", name=col_name)\n",
    "            \n",
    "#             inferred_type_elem = ET.SubElement(column_elem, \"inferred_type\")\n",
    "#             inferred_type_elem.text = col_data[\"inferred_type\"]\n",
    "            \n",
    "#             if \"summary_statistics\" in col_data:\n",
    "#                 summary_stats_elem = ET.SubElement(column_elem, \"summary_statistics\")\n",
    "#                 for stat_name, stat_value in col_data[\"summary_statistics\"].items():\n",
    "#                     stat_elem = ET.SubElement(summary_stats_elem, stat_name)\n",
    "#                     stat_elem.text = str(stat_value)\n",
    "            \n",
    "#             if \"unique_values\" in col_data:\n",
    "#                 unique_values_elem = ET.SubElement(column_elem, \"unique_values\")\n",
    "#                 unique_values_elem.text = str(col_data[\"unique_values\"])\n",
    "            \n",
    "#             if \"value_counts\" in col_data:\n",
    "#                 value_counts_elem = ET.SubElement(column_elem, \"value_counts\")\n",
    "#                 for value, count in col_data[\"value_counts\"].items():\n",
    "#                     value_elem = ET.SubElement(value_counts_elem, str(value))\n",
    "#                     value_elem.text = str(count)\n",
    "                    \n",
    "#             if \"time_span\" in col_data:\n",
    "#                 time_span_elem = ET.SubElement(column_elem, \"time_span\")\n",
    "#                 start_elem = ET.SubElement(time_span_elem, \"start\")\n",
    "#                 start_elem.text = str(col_data[\"time_span\"][\"start\"])\n",
    "#                 end_elem = ET.SubElement(time_span_elem, \"end\")\n",
    "#                 end_elem.text = str(col_data[\"time_span\"][\"end\"])\n",
    "\n",
    "#     return ET.ElementTree(root)\n",
    "\n",
    "\n",
    "# def generate_dataset_summary(df: pd.DataFrame) -> dict:\n",
    "#     \"\"\"\n",
    "#     Generate a summary for each column in the dataset:\n",
    "#       - Numeric columns: min, max, mean, std, etc.\n",
    "#       - Categorical columns: unique values, counts\n",
    "#       - Date/Time columns: min date, max date\n",
    "#     Return a dictionary containing the summary data.\n",
    "#     \"\"\"\n",
    "#     summary_dict = {}\n",
    "    \n",
    "#     for col in df.columns:\n",
    "#         col_info = {}\n",
    "#         col_data = df[col].dropna()\n",
    "        \n",
    "#         # Try to convert to datetime - if works, treat as time column\n",
    "#         try:\n",
    "#             col_data_dt = pd.to_datetime(col_data, errors='raise')\n",
    "#             # If conversion successful, assume time column\n",
    "#             col_info[\"column_type\"] = \"datetime\"\n",
    "#             col_info[\"time_span_start\"] = str(col_data_dt.min())\n",
    "#             col_info[\"time_span_end\"] = str(col_data_dt.max())\n",
    "#         except ValueError:\n",
    "#             # Not date/time, proceed to numeric or categorical logic\n",
    "#             if pd.api.types.is_numeric_dtype(col_data):\n",
    "#                 col_info[\"column_type\"] = \"numeric\"\n",
    "#                 col_info[\"count\"] = int(col_data.count())\n",
    "#                 col_info[\"mean\"] = float(col_data.mean())\n",
    "#                 col_info[\"std\"] = float(col_data.std())\n",
    "#                 col_info[\"min\"] = float(col_data.min())\n",
    "#                 col_info[\"max\"] = float(col_data.max())\n",
    "#             else:\n",
    "#                 col_info[\"column_type\"] = \"categorical\"\n",
    "#                 uniques = col_data.unique()\n",
    "#                 col_info[\"unique_values\"] = [str(u) for u in uniques]\n",
    "#                 col_info[\"unique_value_count\"] = len(uniques)\n",
    "        \n",
    "#         summary_dict[col] = col_info\n",
    "    \n",
    "#     return summary_dict\n",
    "\n",
    "# def dict_to_xml_summarization(methodology_summary: str,\n",
    "#                               statistics_extraction: str,\n",
    "#                               dataset_summary: dict) -> str:\n",
    "#     \"\"\"\n",
    "#     Create an XML string combining methodology summary, \n",
    "#     extracted statistical analyses, and dataset summary.\n",
    "#     \"\"\"\n",
    "#     import xml.etree.ElementTree as ET\n",
    "    \n",
    "#     root = ET.Element(\"SummaryOutput\")\n",
    "    \n",
    "#     # Methodology part\n",
    "#     methodology_el = ET.SubElement(root, \"MethodologySummary\")\n",
    "#     methodology_el.text = methodology_summary\n",
    "    \n",
    "#     # Statistical analyses part\n",
    "#     stats_el = ET.SubElement(root, \"StatisticalAnalyses\")\n",
    "#     stats_el.text = statistics_extraction\n",
    "    \n",
    "#     # Dataset Summary\n",
    "#     data_el = ET.SubElement(root, \"DatasetSummary\")\n",
    "#     for col, info in dataset_summary.items():\n",
    "#         col_el = ET.SubElement(data_el, \"Column\", name=col)\n",
    "#         for key, val in info.items():\n",
    "#             sub_el = ET.SubElement(col_el, key)\n",
    "#             if isinstance(val, list):\n",
    "#                 sub_el.text = \", \".join(val)\n",
    "#             else:\n",
    "#                 sub_el.text = str(val)\n",
    "    \n",
    "#     # Convert to string\n",
    "#     return ET.tostring(root, encoding='unicode')"
   ]
  },
  {
   "cell_type": "code",
   "execution_count": 68,
   "metadata": {},
   "outputs": [],
   "source": [
    "import pandas as pd\n",
    "import json\n",
    "\n",
    "def summarize_excel_to_json(file_path):\n",
    "    \"\"\"\n",
    "    Reads an Excel (.xlsx) file and creates a JSON summary of each sheet.\n",
    "    For each column it provides:\n",
    "      1. The variable (column) name.\n",
    "      2. The inferred variable type (numeric, datetime, categorical).\n",
    "      3. For numeric columns: standard summary statistics.\n",
    "      4. For categorical columns: unique values and their counts.\n",
    "      5. For datetime columns: the time span (min and max dates).\n",
    "\n",
    "    Parameters:\n",
    "        file_path (str): The path to the Excel file.\n",
    "\n",
    "    Returns:\n",
    "        str: A JSON string summarizing the workbook.\n",
    "    \"\"\"\n",
    "    workbook_summary = {}\n",
    "    # Load the Excel file\n",
    "    xls = pd.ExcelFile(file_path)\n",
    "\n",
    "    # Process each sheet in the workbook\n",
    "    for sheet in xls.sheet_names:\n",
    "        df = pd.read_excel(xls, sheet_name=sheet)\n",
    "        sheet_summary = []\n",
    "        \n",
    "        # Process each column in the sheet\n",
    "        for col in df.columns:\n",
    "            column_summary = {\"variable_name\": str(col)}\n",
    "            series = df[col]\n",
    "\n",
    "            # Infer the variable type: numeric, datetime, or categorical\n",
    "            if pd.api.types.is_numeric_dtype(series):\n",
    "                column_summary[\"variable_type\"] = \"numeric\"\n",
    "                # Compute summary statistics\n",
    "                stats = series.describe()\n",
    "                column_summary[\"summary_statistics\"] = {\n",
    "                    \"count\": stats.get(\"count\"),\n",
    "                    \"mean\": stats.get(\"mean\"),\n",
    "                    \"std\": stats.get(\"std\"),\n",
    "                    \"min\": stats.get(\"min\"),\n",
    "                    \"25%\": stats.get(\"25%\"),\n",
    "                    \"50%\": stats.get(\"50%\"),\n",
    "                    \"75%\": stats.get(\"75%\"),\n",
    "                    \"max\": stats.get(\"max\")\n",
    "                }\n",
    "            elif pd.api.types.is_datetime64_any_dtype(series):\n",
    "                column_summary[\"variable_type\"] = \"datetime\"\n",
    "                # Compute time span (min and max)\n",
    "                times = series.dropna()\n",
    "                if not times.empty:\n",
    "                    column_summary[\"time_span\"] = {\n",
    "                        \"start\": str(times.min()),\n",
    "                        \"end\": str(times.max())\n",
    "                    }\n",
    "                else:\n",
    "                    column_summary[\"time_span\"] = {\"start\": None, \"end\": None}\n",
    "            else:\n",
    "                column_summary[\"variable_type\"] = \"categorical\"\n",
    "                # Compute unique values and their counts\n",
    "                uniques = series.value_counts(dropna=False)\n",
    "                unique_values = []\n",
    "                for value, count in uniques.items():\n",
    "                    # Represent NaN values as the string \"NaN\"\n",
    "                    value_str = \"NaN\" if pd.isna(value) else str(value)\n",
    "                    unique_values.append({\"value\": value_str, \"count\": int(count)})\n",
    "                column_summary[\"unique_values\"] = unique_values\n",
    "\n",
    "            sheet_summary.append(column_summary)\n",
    "        workbook_summary[sheet] = sheet_summary\n",
    "\n",
    "    # Convert the dictionary to a formatted JSON string\n",
    "    json_str = json.dumps(workbook_summary, indent=2)\n",
    "    return json_str"
   ]
  },
  {
   "cell_type": "code",
   "execution_count": 69,
   "metadata": {},
   "outputs": [],
   "source": [
    "def excel_to_json_dict(file_path):\n",
    "    # Read all sheets from the Excel file into a dictionary of DataFrames\n",
    "    sheets_dict = pd.read_excel(file_path, sheet_name=None)\n",
    "\n",
    "    # Convert each sheet DataFrame to JSON format\n",
    "    json_dict = {sheet_name: df.to_dict(orient=\"records\") for sheet_name, df in sheets_dict.items()}\n",
    "\n",
    "    return json_dict"
   ]
  },
  {
   "cell_type": "code",
   "execution_count": 70,
   "metadata": {},
   "outputs": [],
   "source": [
    "xlsx_path = \"../data/poc_example_data/lazaro_et_al_2021.xlsx\""
   ]
  },
  {
   "cell_type": "code",
   "execution_count": 71,
   "metadata": {},
   "outputs": [],
   "source": [
    "dataset = summarize_excel_to_json(xlsx_path)"
   ]
  },
  {
   "cell_type": "code",
   "execution_count": 72,
   "metadata": {},
   "outputs": [
    {
     "data": {
      "text/plain": [
       "'{\\n  \"WildBeeDiversit&Abundance\": [\\n    {\\n      \"variable_name\": \"Island\",\\n      \"variable_type\": \"categorical\",\\n      \"unique_values\": [\\n        {\\n          \"value\": \"Tinos\",\\n          \"count\": 5\\n        },\\n        {\\n          \"value\": \"Paros\",\\n          \"count\": 4\\n        },\\n        {\\n          \"value\": \"Santorini\",\\n          \"count\": 4\\n        },\\n        {\\n          \"value\": \"Anafi\",\\n          \"count\": 3\\n        },\\n        {\\n          \"value\": \"Folegandros\",\\n          \"count\": 3\\n        },\\n        {\\n          \"value\": \"Ios\",\\n          \"count\": 3\\n        },\\n        {\\n          \"value\": \"Kea\",\\n          \"count\": 3\\n        },\\n        {\\n          \"value\": \"Kythnos\",\\n          \"count\": 3\\n        },\\n        {\\n          \"value\": \"Milos\",\\n          \"count\": 3\\n        },\\n        {\\n          \"value\": \"Mykonos\",\\n          \"count\": 3\\n        },\\n        {\\n          \"value\": \"Serifos\",\\n          \"count\": 3\\n        },\\n        {\\n          \"value\": \"Syros\",\\n          \"count\": 3\\n        },\\n        {\\n          \"value\": \"Delos\",\\n          \"count\": 1\\n        }\\n      ]\\n    },\\n    {\\n      \"variable_name\": \"Island_Site\",\\n      \"variable_type\": \"categorical\",\\n      \"unique_values\": [\\n        {\\n          \"value\": \"AnafiHelicodrome\",\\n          \"count\": 1\\n        },\\n        {\\n          \"value\": \"MykonosPanormos\",\\n          \"count\": 1\\n        },\\n        {\\n          \"value\": \"ParosAg. Ioannis\",\\n          \"count\": 1\\n        },\\n        {\\n          \"value\": \"ParosKamari\",\\n          \"count\": 1\\n        },\\n        {\\n          \"value\": \"ParosPetaloudes\",\\n          \"count\": 1\\n        },\\n        {\\n          \"value\": \"SantoriniAg. Fanourios Dune\",\\n          \"count\": 1\\n        },\\n        {\\n          \"value\": \"SantoriniAkrotiri-Faros\",\\n          \"count\": 1\\n        },\\n        {\\n          \"value\": \"SantoriniPanagia Kalou\",\\n          \"count\": 1\\n        },\\n        {\\n          \"value\": \"SantoriniPyrgos\",\\n          \"count\": 1\\n        },\\n        {\\n          \"value\": \"SerifosMegalo Livadi\",\\n          \"count\": 1\\n        },\\n        {\\n          \"value\": \"SerifosPanaghia\",\\n          \"count\": 1\\n        },\\n        {\\n          \"value\": \"SerifosSklavogianni\",\\n          \"count\": 1\\n        },\\n        {\\n          \"value\": \"SyrosHrousa\",\\n          \"count\": 1\\n        },\\n        {\\n          \"value\": \"SyrosKambos\",\\n          \"count\": 1\\n        },\\n        {\\n          \"value\": \"SyrosKomito\",\\n          \"count\": 1\\n        },\\n        {\\n          \"value\": \"TinosAgapi\",\\n          \"count\": 1\\n        },\\n        {\\n          \"value\": \"TinosGiannaki\",\\n          \"count\": 1\\n        },\\n        {\\n          \"value\": \"TinosKarya\",\\n          \"count\": 1\\n        },\\n        {\\n          \"value\": \"TinosLaouti\",\\n          \"count\": 1\\n        },\\n        {\\n          \"value\": \"ParosA. Horio\",\\n          \"count\": 1\\n        },\\n        {\\n          \"value\": \"MykonosOrnos\",\\n          \"count\": 1\\n        },\\n        {\\n          \"value\": \"AnafiVagia\",\\n          \"count\": 1\\n        },\\n        {\\n          \"value\": \"MykonosElia\",\\n          \"count\": 1\\n        },\\n        {\\n          \"value\": \"AnafiZoodohos Pigi\",\\n          \"count\": 1\\n        },\\n        {\\n          \"value\": \"DelosDelos\",\\n          \"count\": 1\\n        },\\n        {\\n          \"value\": \"FolegandrosAg. Georgios\",\\n          \"count\": 1\\n        },\\n        {\\n          \"value\": \"FolegandrosChyta\",\\n          \"count\": 1\\n        },\\n        {\\n          \"value\": \"FolegandrosKatergo\",\\n          \"count\": 1\\n        },\\n        {\\n          \"value\": \"IosAg. Theodoti\",\\n          \"count\": 1\\n        },\\n        {\\n          \"value\": \"IosKambos\",\\n          \"count\": 1\\n        },\\n        {\\n          \"value\": \"IosMersinia\",\\n          \"count\": 1\\n        },\\n        {\\n          \"value\": \"KeaDihala Sklavou\",\\n          \"count\": 1\\n        },\\n        {\\n          \"value\": \"KeaMylopotamos\",\\n          \"count\": 1\\n        },\\n        {\\n          \"value\": \"KeaPoisses\",\\n          \"count\": 1\\n        },\\n        {\\n          \"value\": \"KythnosAg. Sostis\",\\n          \"count\": 1\\n        },\\n        {\\n          \"value\": \"KythnosMerihas\",\\n          \"count\": 1\\n        },\\n        {\\n          \"value\": \"KythnosStratolatissa\",\\n          \"count\": 1\\n        },\\n        {\\n          \"value\": \"MilosAchivadolimni\",\\n          \"count\": 1\\n        },\\n        {\\n          \"value\": \"MilosFiropotamos\",\\n          \"count\": 1\\n        },\\n        {\\n          \"value\": \"MilosSarakiniko\",\\n          \"count\": 1\\n        },\\n        {\\n          \"value\": \"TinosMarlas\",\\n          \"count\": 1\\n        }\\n      ]\\n    },\\n    {\\n      \"variable_name\": \"WildBeeRichnessSt\",\\n      \"variable_type\": \"numeric\",\\n      \"summary_statistics\": {\\n        \"count\": 41.0,\\n        \"mean\": 39.18356097560976,\\n        \"std\": 15.257755644341636,\\n        \"min\": 14.525,\\n        \"25%\": 28.834,\\n        \"50%\": 38.997,\\n        \"75%\": 52.21,\\n        \"max\": 71.675\\n      }\\n    },\\n    {\\n      \"variable_name\": \"WildBeeAbundanceSt\",\\n      \"variable_type\": \"numeric\",\\n      \"summary_statistics\": {\\n        \"count\": 41.0,\\n        \"mean\": 304.9200731707317,\\n        \"std\": 210.1049707584747,\\n        \"min\": 37.557,\\n        \"25%\": 118.266,\\n        \"50%\": 303.389,\\n        \"75%\": 398.686,\\n        \"max\": 870.413\\n      }\\n    },\\n    {\\n      \"variable_name\": \"Areakm2\",\\n      \"variable_type\": \"numeric\",\\n      \"summary_statistics\": {\\n        \"count\": 41.0,\\n        \"mean\": 109.46748780487806,\\n        \"std\": 56.788091827478205,\\n        \"min\": 3.4,\\n        \"25%\": 76.19,\\n        \"50%\": 99.432,\\n        \"75%\": 151.0,\\n        \"max\": 196.308\\n      }\\n    },\\n    {\\n      \"variable_name\": \"NumberHivesMinistry2005_2015\",\\n      \"variable_type\": \"numeric\",\\n      \"summary_statistics\": {\\n        \"count\": 41.0,\\n        \"mean\": 1638.6075387536587,\\n        \"std\": 1085.3215818850613,\\n        \"min\": 0.0,\\n        \"25%\": 772.1818182,\\n        \"50%\": 1265.909091,\\n        \"75%\": 2342.727273,\\n        \"max\": 3484.090909\\n      }\\n    },\\n    {\\n      \"variable_name\": \"HiveDensityMinistry2005-2015\",\\n      \"variable_type\": \"numeric\",\\n      \"summary_statistics\": {\\n        \"count\": 41.0,\\n        \"mean\": 15.385294214,\\n        \"std\": 8.91504852219844,\\n        \"min\": 0.0,\\n        \"25%\": 10.13494971,\\n        \"50%\": 12.03929941,\\n        \"75%\": 25.72703867,\\n        \"max\": 31.77256546\\n      }\\n    },\\n    {\\n      \"variable_name\": \"HiveDensityMinistry_STUDYYEAR\",\\n      \"variable_type\": \"numeric\",\\n      \"summary_statistics\": {\\n        \"count\": 41.0,\\n        \"mean\": 16.103099898097565,\\n        \"std\": 9.041027306538387,\\n        \"min\": 0.0,\\n        \"25%\": 10.46069038,\\n        \"50%\": 13.39226065,\\n        \"75%\": 18.8316767,\\n        \"max\": 32.86635453\\n      }\\n    },\\n    {\\n      \"variable_name\": \"NumberApis\",\\n      \"variable_type\": \"numeric\",\\n      \"summary_statistics\": {\\n        \"count\": 41.0,\\n        \"mean\": 185.57723577365854,\\n        \"std\": 124.06606717830799,\\n        \"min\": 0.0,\\n        \"25%\": 88.0,\\n        \"50%\": 157.6666667,\\n        \"75%\": 268.6666667,\\n        \"max\": 486.3333333\\n      }\\n    },\\n    {\\n      \"variable_name\": \"FlowerAbundance\",\\n      \"variable_type\": \"numeric\",\\n      \"summary_statistics\": {\\n        \"count\": 41.0,\\n        \"mean\": 1768.1626016536586,\\n        \"std\": 1074.9857510261895,\\n        \"min\": 371.0,\\n        \"25%\": 1088.666667,\\n        \"50%\": 1480.0,\\n        \"75%\": 2322.666667,\\n        \"max\": 5799.6\\n      }\\n    },\\n    {\\n      \"variable_name\": \"FlowerRichness\",\\n      \"variable_type\": \"numeric\",\\n      \"summary_statistics\": {\\n        \"count\": 41.0,\\n        \"mean\": 11.463414634512196,\\n        \"std\": 4.1625833655168245,\\n        \"min\": 4.333333333,\\n        \"25%\": 8.666666667,\\n        \"50%\": 10.0,\\n        \"75%\": 14.66666667,\\n        \"max\": 20.66666667\\n      }\\n    },\\n    {\\n      \"variable_name\": \"%NaturalHabitats\",\\n      \"variable_type\": \"numeric\",\\n      \"summary_statistics\": {\\n        \"count\": 41.0,\\n        \"mean\": 67.59170755002441,\\n        \"std\": 26.704653083898847,\\n        \"min\": 0.0,\\n        \"25%\": 51.8729741,\\n        \"50%\": 66.41455385,\\n        \"75%\": 93.96081617,\\n        \"max\": 100.0000006\\n      }\\n    },\\n    {\\n      \"variable_name\": \"LandscapeHeterogeneity\",\\n      \"variable_type\": \"numeric\",\\n      \"summary_statistics\": {\\n        \"count\": 41.0,\\n        \"mean\": 0.9540380714390245,\\n        \"std\": 0.4187384187322232,\\n        \"min\": 0.0,\\n        \"25%\": 0.792577767,\\n        \"50%\": 1.084832787,\\n        \"75%\": 1.202970327,\\n        \"max\": 1.648184362\\n      }\\n    }\\n  ],\\n  \"PAC\": [\\n    {\\n      \"variable_name\": \"Island\",\\n      \"variable_type\": \"categorical\",\\n      \"unique_values\": [\\n        {\\n          \"value\": \"Tinos\",\\n          \"count\": 258\\n        },\\n        {\\n          \"value\": \"Kea\",\\n          \"count\": 179\\n        },\\n        {\\n          \"value\": \"Serifos\",\\n          \"count\": 166\\n        },\\n        {\\n          \"value\": \"Santorini\",\\n          \"count\": 120\\n        },\\n        {\\n          \"value\": \"Ios\",\\n          \"count\": 115\\n        },\\n        {\\n          \"value\": \"Kythnos\",\\n          \"count\": 110\\n        },\\n        {\\n          \"value\": \"Anafi\",\\n          \"count\": 99\\n        },\\n        {\\n          \"value\": \"Folegandros\",\\n          \"count\": 83\\n        },\\n        {\\n          \"value\": \"Paros\",\\n          \"count\": 81\\n        },\\n        {\\n          \"value\": \"Syros\",\\n          \"count\": 75\\n        },\\n        {\\n          \"value\": \"Milos\",\\n          \"count\": 61\\n        },\\n        {\\n          \"value\": \"Mykonos\",\\n          \"count\": 34\\n        }\\n      ]\\n    },\\n    {\\n      \"variable_name\": \"Island_Site\",\\n      \"variable_type\": \"categorical\",\\n      \"unique_values\": [\\n        {\\n          \"value\": \"KeaPoisses\",\\n          \"count\": 68\\n        },\\n        {\\n          \"value\": \"TinosMarlas\",\\n          \"count\": 60\\n        },\\n        {\\n          \"value\": \"SerifosMegalo Livadi\",\\n          \"count\": 58\\n        },\\n        {\\n          \"value\": \"SerifosPanaghia\",\\n          \"count\": 57\\n        },\\n        {\\n          \"value\": \"KeaMylopotamos\",\\n          \"count\": 56\\n        },\\n        {\\n          \"value\": \"KeaDihala Sklavou\",\\n          \"count\": 55\\n        },\\n        {\\n          \"value\": \"TinosAgapi\",\\n          \"count\": 54\\n        },\\n        {\\n          \"value\": \"SerifosSklavogianni\",\\n          \"count\": 51\\n        },\\n        {\\n          \"value\": \"TinosGiannaki\",\\n          \"count\": 50\\n        },\\n        {\\n          \"value\": \"TinosLaouti\",\\n          \"count\": 50\\n        },\\n        {\\n          \"value\": \"IosAg. Theodoti\",\\n          \"count\": 44\\n        },\\n        {\\n          \"value\": \"TinosKarya\",\\n          \"count\": 44\\n        },\\n        {\\n          \"value\": \"KythnosAg. Sostis\",\\n          \"count\": 44\\n        },\\n        {\\n          \"value\": \"IosKambos\",\\n          \"count\": 42\\n        },\\n        {\\n          \"value\": \"AnafiZoodohos Pigi\",\\n          \"count\": 38\\n        },\\n        {\\n          \"value\": \"KythnosStratolatissa\",\\n          \"count\": 37\\n        },\\n        {\\n          \"value\": \"SantoriniAkrotiri-Faros\",\\n          \"count\": 36\\n        },\\n        {\\n          \"value\": \"SantoriniPyrgos\",\\n          \"count\": 35\\n        },\\n        {\\n          \"value\": \"AnafiHelicodrome\",\\n          \"count\": 34\\n        },\\n        {\\n          \"value\": \"SyrosKomito\",\\n          \"count\": 32\\n        },\\n        {\\n          \"value\": \"FolegandrosAg. Georgios\",\\n          \"count\": 30\\n        },\\n        {\\n          \"value\": \"IosMersinia\",\\n          \"count\": 29\\n        },\\n        {\\n          \"value\": \"FolegandrosKatergo\",\\n          \"count\": 29\\n        },\\n        {\\n          \"value\": \"KythnosMerihas\",\\n          \"count\": 29\\n        },\\n        {\\n          \"value\": \"AnafiVagia\",\\n          \"count\": 27\\n        },\\n        {\\n          \"value\": \"SantoriniPanagia Kalou\",\\n          \"count\": 27\\n        },\\n        {\\n          \"value\": \"ParosKamari\",\\n          \"count\": 26\\n        },\\n        {\\n          \"value\": \"FolegandrosChyta\",\\n          \"count\": 24\\n        },\\n        {\\n          \"value\": \"SyrosHrousa\",\\n          \"count\": 24\\n        },\\n        {\\n          \"value\": \"ParosA. Horio\",\\n          \"count\": 23\\n        },\\n        {\\n          \"value\": \"MilosFiropotamos\",\\n          \"count\": 23\\n        },\\n        {\\n          \"value\": \"SantoriniAg. Fanourios Dune\",\\n          \"count\": 22\\n        },\\n        {\\n          \"value\": \"MilosSarakiniko\",\\n          \"count\": 19\\n        },\\n        {\\n          \"value\": \"MilosAchivadolimni\",\\n          \"count\": 19\\n        },\\n        {\\n          \"value\": \"SyrosKambos\",\\n          \"count\": 19\\n        },\\n        {\\n          \"value\": \"ParosAg. Ioannis\",\\n          \"count\": 18\\n        },\\n        {\\n          \"value\": \"MykonosOrnos\",\\n          \"count\": 15\\n        },\\n        {\\n          \"value\": \"ParosPetaloudes\",\\n          \"count\": 14\\n        },\\n        {\\n          \"value\": \"MykonosPanormos\",\\n          \"count\": 11\\n        },\\n        {\\n          \"value\": \"MykonosElia\",\\n          \"count\": 8\\n        }\\n      ]\\n    },\\n    {\\n      \"variable_name\": \"family\",\\n      \"variable_type\": \"categorical\",\\n      \"unique_values\": [\\n        {\\n          \"value\": \"Megachilidae\",\\n          \"count\": 424\\n        },\\n        {\\n          \"value\": \"Apidae\",\\n          \"count\": 417\\n        },\\n        {\\n          \"value\": \"Halictidae\",\\n          \"count\": 260\\n        },\\n        {\\n          \"value\": \"Andrenidae\",\\n          \"count\": 186\\n        },\\n        {\\n          \"value\": \"Colletidae\",\\n          \"count\": 90\\n        },\\n        {\\n          \"value\": \"Melittidae\",\\n          \"count\": 4\\n        }\\n      ]\\n    },\\n    {\\n      \"variable_name\": \"InsectSpecies\",\\n      \"variable_type\": \"categorical\",\\n      \"unique_values\": [\\n        {\\n          \"value\": \"Anthophoradalmatica\",\\n          \"count\": 31\\n        },\\n        {\\n          \"value\": \"Xylocopaviolacea\",\\n          \"count\": 30\\n        },\\n        {\\n          \"value\": \"Andrenaflavipes\",\\n          \"count\": 28\\n        },\\n        {\\n          \"value\": \"Osmiacaerulescens\",\\n          \"count\": 27\\n        },\\n        {\\n          \"value\": \"Megachileparietinanestorea\",\\n          \"count\": 26\\n        },\\n        {\\n          \"value\": \"Osmianiveocincta\",\\n          \"count\": 25\\n        },\\n        {\\n          \"value\": \"Xylocopairis\",\\n          \"count\": 25\\n        },\\n        {\\n          \"value\": \"Halictusquadricinctus\",\\n          \"count\": 24\\n        },\\n        {\\n          \"value\": \"Halictuspollinosuscariniventris\",\\n          \"count\": 23\\n        },\\n        {\\n          \"value\": \"Halictusresurgens\",\\n          \"count\": 23\\n        },\\n        {\\n          \"value\": \"Hylaeusimparilis\",\\n          \"count\": 23\\n        },\\n        {\\n          \"value\": \"Amegillaalbigena\",\\n          \"count\": 22\\n        },\\n        {\\n          \"value\": \"Ceratinaacuta\",\\n          \"count\": 22\\n        },\\n        {\\n          \"value\": \"Halictusphryganicus\",\\n          \"count\": 22\\n        },\\n        {\\n          \"value\": \"Megachilelefebvrei\",\\n          \"count\": 21\\n        },\\n        {\\n          \"value\": \"Andrenafuscosa\",\\n          \"count\": 20\\n        },\\n        {\\n          \"value\": \"Megachilepilidens\",\\n          \"count\": 20\\n        },\\n        {\\n          \"value\": \"Andrenamorio\",\\n          \"count\": 19\\n        },\\n        {\\n          \"value\": \"Lasioglossummalachurum\",\\n          \"count\": 19\\n        },\\n        {\\n          \"value\": \"Bombusterrestris\",\\n          \"count\": 19\\n        },\\n        {\\n          \"value\": \"Anthophorarutilans\",\\n          \"count\": 19\\n        },\\n        {\\n          \"value\": \"Hylaeusmeridionalis\",\\n          \"count\": 19\\n        },\\n        {\\n          \"value\": \"Osmialatreillei\",\\n          \"count\": 18\\n        },\\n        {\\n          \"value\": \"Euceraalbofasciata\",\\n          \"count\": 18\\n        },\\n        {\\n          \"value\": \"Anthophoraagama\",\\n          \"count\": 16\\n        },\\n        {\\n          \"value\": \"Megachileapicalis\",\\n          \"count\": 16\\n        },\\n        {\\n          \"value\": \"Anthophoradubia\",\\n          \"count\": 16\\n        },\\n        {\\n          \"value\": \"Euceranigrescens\",\\n          \"count\": 16\\n        },\\n        {\\n          \"value\": \"Andrenapilipes\",\\n          \"count\": 16\\n        },\\n        {\\n          \"value\": \"Osmiaversicolor\",\\n          \"count\": 15\\n        },\\n        {\\n          \"value\": \"Icteranthidiumgrohmanni\",\\n          \"count\": 15\\n        },\\n        {\\n          \"value\": \"Osmiaandrenoides\",\\n          \"count\": 15\\n        },\\n        {\\n          \"value\": \"Osmiasignata\",\\n          \"count\": 14\\n        },\\n        {\\n          \"value\": \"Nomioidesminutissimus\",\\n          \"count\": 14\\n        },\\n        {\\n          \"value\": \"Megachilealbisecta\",\\n          \"count\": 14\\n        },\\n        {\\n          \"value\": \"Anthophoracrinipes\",\\n          \"count\": 13\\n        },\\n        {\\n          \"value\": \"Andrenaschulzialba\",\\n          \"count\": 13\\n        },\\n        {\\n          \"value\": \"Anthidiellumstrigatum\",\\n          \"count\": 13\\n        },\\n        {\\n          \"value\": \"Ceratinacucurbitina\",\\n          \"count\": 12\\n        },\\n        {\\n          \"value\": \"Anthophoraplumipes\",\\n          \"count\": 12\\n        },\\n        {\\n          \"value\": \"Amegillaquadrifasciata\",\\n          \"count\": 12\\n        },\\n        {\\n          \"value\": \"Lasioglossumleucozonium\",\\n          \"count\": 12\\n        },\\n        {\\n          \"value\": \"Andrenasimilis\",\\n          \"count\": 11\\n        },\\n        {\\n          \"value\": \"Anthidiumloti\",\\n          \"count\": 11\\n        },\\n        {\\n          \"value\": \"Anthophorarubricrus\",\\n          \"count\": 11\\n        },\\n        {\\n          \"value\": \"Afranthidiumcarduele\",\\n          \"count\": 11\\n        },\\n        {\\n          \"value\": \"Pseudoanthidiumnanumaegaeicum\",\\n          \"count\": 11\\n        },\\n        {\\n          \"value\": \"Andrenanigroaeneacandiae\",\\n          \"count\": 11\\n        },\\n        {\\n          \"value\": \"Lasioglossumanellum\",\\n          \"count\": 11\\n        },\\n        {\\n          \"value\": \"Pseudapisbispinosa\",\\n          \"count\": 10\\n        },\\n        {\\n          \"value\": \"Lasioglossumnitidulumfudakowskii\",\\n          \"count\": 10\\n        },\\n        {\\n          \"value\": \"Andrenacinerea\",\\n          \"count\": 10\\n        },\\n        {\\n          \"value\": \"Euceratricincta\",\\n          \"count\": 10\\n        },\\n        {\\n          \"value\": \"Eucerarufa\",\\n          \"count\": 10\\n        },\\n        {\\n          \"value\": \"Ceratinachalcites\",\\n          \"count\": 10\\n        },\\n        {\\n          \"value\": \"Lithurguschrysurus\",\\n          \"count\": 10\\n        },\\n        {\\n          \"value\": \"Euceragraja\",\\n          \"count\": 9\\n        },\\n        {\\n          \"value\": \"Rhodanthidiumseptemdentatum\",\\n          \"count\": 9\\n        },\\n        {\\n          \"value\": \"Halictusholomelaenus\",\\n          \"count\": 9\\n        },\\n        {\\n          \"value\": \"Colletesalbomaculatus\",\\n          \"count\": 8\\n        },\\n        {\\n          \"value\": \"Habropodazonatula\",\\n          \"count\": 8\\n        },\\n        {\\n          \"value\": \"Habropodaezonata\",\\n          \"count\": 8\\n        },\\n        {\\n          \"value\": \"Lasioglossumtricinctum\",\\n          \"count\": 7\\n        },\\n        {\\n          \"value\": \"Andrenascita\",\\n          \"count\": 7\\n        },\\n        {\\n          \"value\": \"Hylaeuslongimaculus\",\\n          \"count\": 7\\n        },\\n        {\\n          \"value\": \"Pseudapismonstrosa\",\\n          \"count\": 7\\n        },\\n        {\\n          \"value\": \"Halictusbrunnescens\",\\n          \"count\": 7\\n        },\\n        {\\n          \"value\": \"Ceratinadallatorreana\",\\n          \"count\": 7\\n        },\\n        {\\n          \"value\": \"Hylaeustaeniolatus\",\\n          \"count\": 6\\n        },\\n        {\\n          \"value\": \"Halictusasperulus\",\\n          \"count\": 6\\n        },\\n        {\\n          \"value\": \"Anthidiumtaeniatum\",\\n          \"count\": 6\\n        },\\n        {\\n          \"value\": \"Andrenalimata\",\\n          \"count\": 6\\n        },\\n        {\\n          \"value\": \"Hylaeusclypearis\",\\n          \"count\": 6\\n        },\\n        {\\n          \"value\": \"Osmialigurica\",\\n          \"count\": 6\\n        },\\n        {\\n          \"value\": \"Anthidiumdalmaticum\",\\n          \"count\": 6\\n        },\\n        {\\n          \"value\": \"Anthophoramucida\",\\n          \"count\": 6\\n        },\\n        {\\n          \"value\": \"Lasioglossumlineare\",\\n          \"count\": 6\\n        },\\n        {\\n          \"value\": \"Osmiabidentata\",\\n          \"count\": 5\\n        },\\n        {\\n          \"value\": \"Megachileericetorum\",\\n          \"count\": 5\\n        },\\n        {\\n          \"value\": \"Megachilesemicircularis\",\\n          \"count\": 5\\n        },\\n        {\\n          \"value\": \"Halictustectus\",\\n          \"count\": 5\\n        },\\n        {\\n          \"value\": \"Megachilestrymonia\",\\n          \"count\": 5\\n        },\\n        {\\n          \"value\": \"Xylocopaolivieri\",\\n          \"count\": 5\\n        },\\n        {\\n          \"value\": \"Megachilealbonotata\",\\n          \"count\": 5\\n        },\\n        {\\n          \"value\": \"Lasioglossumpauxillum\",\\n          \"count\": 5\\n        },\\n        {\\n          \"value\": \"Colleteseous\",\\n          \"count\": 5\\n        },\\n        {\\n          \"value\": \"Megachileleachella\",\\n          \"count\": 5\\n        },\\n        {\\n          \"value\": \"Amegillaochroleuca\",\\n          \"count\": 5\\n        },\\n        {\\n          \"value\": \"Hoplitisbrachypogon\",\\n          \"count\": 4\\n        },\\n        {\\n          \"value\": \"Euceraobsoleta\",\\n          \"count\": 4\\n        },\\n        {\\n          \"value\": \"Osmiaspinigera\",\\n          \"count\": 4\\n        },\\n        {\\n          \"value\": \"Camptopoeumfriesei\",\\n          \"count\": 4\\n        },\\n        {\\n          \"value\": \"Osmiadimidiata\",\\n          \"count\": 4\\n        },\\n        {\\n          \"value\": \"Dasypodapyriformis\",\\n          \"count\": 4\\n        },\\n        {\\n          \"value\": \"Megachilemelanopyga\",\\n          \"count\": 4\\n        },\\n        {\\n          \"value\": \"Andrenalamiana\",\\n          \"count\": 4\\n        },\\n        {\\n          \"value\": \"Bombusargillaceus\",\\n          \"count\": 4\\n        },\\n        {\\n          \"value\": \"Hylaeusvariegatus\",\\n          \"count\": 4\\n        },\\n        {\\n          \"value\": \"Icteranthidiumcimbiciforme\",\\n          \"count\": 4\\n        },\\n        {\\n          \"value\": \"Lasioglossumdamascenum\",\\n          \"count\": 4\\n        },\\n        {\\n          \"value\": \"Ceylalictusvariegatus\",\\n          \"count\": 4\\n        },\\n        {\\n          \"value\": \"Stelisnasuta\",\\n          \"count\": 4\\n        },\\n        {\\n          \"value\": \"Hylaeuspunctatus\",\\n          \"count\": 4\\n        },\\n        {\\n          \"value\": \"Andrenahesperia\",\\n          \"count\": 4\\n        },\\n        {\\n          \"value\": \"Andrenaschmiedeknechti\",\\n          \"count\": 3\\n        },\\n        {\\n          \"value\": \"Megachilepusilla\",\\n          \"count\": 3\\n        },\\n        {\\n          \"value\": \"Coelioxysspec.2\",\\n          \"count\": 3\\n        },\\n        {\\n          \"value\": \"Heriadespunctulifera\",\\n          \"count\": 3\\n        },\\n        {\\n          \"value\": \"Osmiasybarita\",\\n          \"count\": 3\\n        },\\n        {\\n          \"value\": \"Heriadescrenulata\",\\n          \"count\": 3\\n        },\\n        {\\n          \"value\": \"Andrenapanurgimorpha\",\\n          \"count\": 3\\n        },\\n        {\\n          \"value\": \"Andrenatomora\",\\n          \"count\": 3\\n        },\\n        {\\n          \"value\": \"Anthidiumcingulatum\",\\n          \"count\": 3\\n        },\\n        {\\n          \"value\": \"Megachilesicula\",\\n          \"count\": 3\\n        },\\n        {\\n          \"value\": \"Megachilefertoni\",\\n          \"count\": 3\\n        },\\n        {\\n          \"value\": \"Andrenawestensis\",\\n          \"count\": 3\\n        },\\n        {\\n          \"value\": \"Andrenarugothorace\",\\n          \"count\": 3\\n        },\\n        {\\n          \"value\": \"Eucerajulliani\",\\n          \"count\": 3\\n        },\\n        {\\n          \"value\": \"Osmiadives\",\\n          \"count\": 3\\n        },\\n        {\\n          \"value\": \"Halictussubauratusmeridionalis\",\\n          \"count\": 3\\n        },\\n        {\\n          \"value\": \"Nomadafulvicornis\",\\n          \"count\": 3\\n        },\\n        {\\n          \"value\": \"Lasioglossumobscuratumacerbum\",\\n          \"count\": 3\\n        },\\n        {\\n          \"value\": \"Andrenafulvitarsis\",\\n          \"count\": 3\\n        },\\n        {\\n          \"value\": \"Aglaoapistridentata\",\\n          \"count\": 2\\n        },\\n        {\\n          \"value\": \"Colletescariniger\",\\n          \"count\": 2\\n        },\\n        {\\n          \"value\": \"Lasioglossumspec.1\",\\n          \"count\": 2\\n        },\\n        {\\n          \"value\": \"Osmiaspec.1\",\\n          \"count\": 2\\n        },\\n        {\\n          \"value\": \"Euceraalticincta\",\\n          \"count\": 2\\n        },\\n        {\\n          \"value\": \"Sphecodesgibbus\",\\n          \"count\": 2\\n        },\\n        {\\n          \"value\": \"Osmiascutellaris\",\\n          \"count\": 2\\n        },\\n        {\\n          \"value\": \"Lasioglossummarginatum\",\\n          \"count\": 2\\n        },\\n        {\\n          \"value\": \"Hoplitismanicata\",\\n          \"count\": 2\\n        },\\n        {\\n          \"value\": \"Dioxyscinctus\",\\n          \"count\": 2\\n        },\\n        {\\n          \"value\": \"Nomadafemoralis\",\\n          \"count\": 2\\n        },\\n        {\\n          \"value\": \"Halictusgraecus\",\\n          \"count\": 2\\n        },\\n        {\\n          \"value\": \"Andrenaovatula\",\\n          \"count\": 2\\n        },\\n        {\\n          \"value\": \"Amegillamagnilabris\",\\n          \"count\": 2\\n        },\\n        {\\n          \"value\": \"Andrenataraxaci\",\\n          \"count\": 2\\n        },\\n        {\\n          \"value\": \"Lasioglossumdolichocephalum\",\\n          \"count\": 2\\n        },\\n        {\\n          \"value\": \"Hylaeusangustatus\",\\n          \"count\": 2\\n        },\\n        {\\n          \"value\": \"Megachilemontenegrensis\",\\n          \"count\": 2\\n        },\\n        {\\n          \"value\": \"Sphecodesephippius\",\\n          \"count\": 2\\n        },\\n        {\\n          \"value\": \"Nomadafucata\",\\n          \"count\": 2\\n        },\\n        {\\n          \"value\": \"Osmiagallarum\",\\n          \"count\": 2\\n        },\\n        {\\n          \"value\": \"Andrenacinereophila\",\\n          \"count\": 2\\n        },\\n        {\\n          \"value\": \"Osmianigrohirta\",\\n          \"count\": 2\\n        },\\n        {\\n          \"value\": \"Coelioxysbrevis\",\\n          \"count\": 2\\n        },\\n        {\\n          \"value\": \"Osmiacyanoxantha\",\\n          \"count\": 2\\n        },\\n        {\\n          \"value\": \"Euceraalgira\",\\n          \"count\": 2\\n        },\\n        {\\n          \"value\": \"Nomadarubricollis\",\\n          \"count\": 2\\n        },\\n        {\\n          \"value\": \"Lasioglossumtransitoriumuncinum\",\\n          \"count\": 2\\n        },\\n        {\\n          \"value\": \"Megachilefarinosa\",\\n          \"count\": 2\\n        },\\n        {\\n          \"value\": \"Osmiabicornis\",\\n          \"count\": 2\\n        },\\n        {\\n          \"value\": \"Hoplitistridentata\",\\n          \"count\": 1\\n        },\\n        {\\n          \"value\": \"Coelioxysacanthura\",\\n          \"count\": 1\\n        },\\n        {\\n          \"value\": \"Sphecodesrufiventris\",\\n          \"count\": 1\\n        },\\n        {\\n          \"value\": \"Melectaobscurasimulatrix\",\\n          \"count\": 1\\n        },\\n        {\\n          \"value\": \"Sphecodesreticulatus\",\\n          \"count\": 1\\n        },\\n        {\\n          \"value\": \"Hoplitistigrina\",\\n          \"count\": 1\\n        },\\n        {\\n          \"value\": \"Hylaeusdeceptorius\",\\n          \"count\": 1\\n        },\\n        {\\n          \"value\": \"Euceramalvae\",\\n          \"count\": 1\\n        },\\n        {\\n          \"value\": \"Halictussexcinctusalbohispidus\",\\n          \"count\": 1\\n        },\\n        {\\n          \"value\": \"Andrenaerberi\",\\n          \"count\": 1\\n        },\\n        {\\n          \"value\": \"Sphecodespuncticeps\",\\n          \"count\": 1\\n        },\\n        {\\n          \"value\": \"Lasioglossumelegans\",\\n          \"count\": 1\\n        },\\n        {\\n          \"value\": \"Andrenatransitoria\",\\n          \"count\": 1\\n        },\\n        {\\n          \"value\": \"Hylaeussignatus\",\\n          \"count\": 1\\n        },\\n        {\\n          \"value\": \"Lasioglossummandibulare\",\\n          \"count\": 1\\n        },\\n        {\\n          \"value\": \"Nomadanausicaa\",\\n          \"count\": 1\\n        },\\n        {\\n          \"value\": \"Nomadaeos\",\\n          \"count\": 1\\n        },\\n        {\\n          \"value\": \"Anthophorasubterranea\",\\n          \"count\": 1\\n        },\\n        {\\n          \"value\": \"Stelisodontopyga/phaeoptera\",\\n          \"count\": 1\\n        },\\n        {\\n          \"value\": \"Osmiaaurulenta\",\\n          \"count\": 1\\n        },\\n        {\\n          \"value\": \"Andrenaschencki\",\\n          \"count\": 1\\n        },\\n        {\\n          \"value\": \"Euceradalmatica\",\\n          \"count\": 1\\n        },\\n        {\\n          \"value\": \"Camptopoeumspec.1\",\\n          \"count\": 1\\n        },\\n        {\\n          \"value\": \"Thyreusramosus\",\\n          \"count\": 1\\n        },\\n        {\\n          \"value\": \"Euceraalternans\",\\n          \"count\": 1\\n        },\\n        {\\n          \"value\": \"Andrenaneocypriaca\",\\n          \"count\": 1\\n        },\\n        {\\n          \"value\": \"Andrenaalfkenella\",\\n          \"count\": 1\\n        },\\n        {\\n          \"value\": \"Sphecodesnomioidis\",\\n          \"count\": 1\\n        },\\n        {\\n          \"value\": \"Hoplitispallicornis\",\\n          \"count\": 1\\n        },\\n        {\\n          \"value\": \"Andrenanobilis\",\\n          \"count\": 1\\n        },\\n        {\\n          \"value\": \"Anthophoradufourii\",\\n          \"count\": 1\\n        },\\n        {\\n          \"value\": \"Ceratinaschwarzi\",\\n          \"count\": 1\\n        },\\n        {\\n          \"value\": \"Lasioglossumvillosulum\",\\n          \"count\": 1\\n        },\\n        {\\n          \"value\": \"Megachiletenuistriga\",\\n          \"count\": 1\\n        },\\n        {\\n          \"value\": \"Osmiabrevicornis\",\\n          \"count\": 1\\n        },\\n        {\\n          \"value\": \"Colletesfoveolaris\",\\n          \"count\": 1\\n        },\\n        {\\n          \"value\": \"Euceranigrilabris\",\\n          \"count\": 1\\n        },\\n        {\\n          \"value\": \"Lithurgustibialis\",\\n          \"count\": 1\\n        },\\n        {\\n          \"value\": \"Stelisdenticulata\",\\n          \"count\": 1\\n        },\\n        {\\n          \"value\": \"Hylaeuslineolatus\",\\n          \"count\": 1\\n        },\\n        {\\n          \"value\": \"Megachilepilicrus\",\\n          \"count\": 1\\n        },\\n        {\\n          \"value\": \"Nomioidesfacilis\",\\n          \"count\": 1\\n        },\\n        {\\n          \"value\": \"Nomadacaspia\",\\n          \"count\": 1\\n        },\\n        {\\n          \"value\": \"Andrenaglidia\",\\n          \"count\": 1\\n        },\\n        {\\n          \"value\": \"Pasitesmaculatus\",\\n          \"count\": 1\\n        },\\n        {\\n          \"value\": \"Hoplitispici\",\\n          \"count\": 1\\n        },\\n        {\\n          \"value\": \"Halictustetrazonius-group\",\\n          \"count\": 1\\n        },\\n        {\\n          \"value\": \"Nomadacruenta\",\\n          \"count\": 1\\n        },\\n        {\\n          \"value\": \"Sphecodesintermedius\",\\n          \"count\": 1\\n        },\\n        {\\n          \"value\": \"Nomadanumidamanni\",\\n          \"count\": 1\\n        },\\n        {\\n          \"value\": \"Andrenakriechbaumeri\",\\n          \"count\": 1\\n        },\\n        {\\n          \"value\": \"Anthophorarobusta\",\\n          \"count\": 1\\n        },\\n        {\\n          \"value\": \"Lasioglossumpunctatissimum\",\\n          \"count\": 1\\n        },\\n        {\\n          \"value\": \"Nomadasexfasciata\",\\n          \"count\": 1\\n        }\\n      ]\\n    },\\n    {\\n      \"variable_name\": \"InfluenceApismellifera\",\\n      \"variable_type\": \"numeric\",\\n      \"summary_statistics\": {\\n        \"count\": 1381.0,\\n        \"mean\": 0.3531167336582187,\\n        \"std\": 0.3167474772834968,\\n        \"min\": 0.0,\\n        \"25%\": 0.022222222,\\n        \"50%\": 0.301067655,\\n        \"75%\": 0.613636364,\\n        \"max\": 0.993150685\\n      }\\n    },\\n    {\\n      \"variable_name\": \"FlowerAbundance\",\\n      \"variable_type\": \"numeric\",\\n      \"summary_statistics\": {\\n        \"count\": 1381.0,\\n        \"mean\": 1930.2147960742216,\\n        \"std\": 1063.1891857547294,\\n        \"min\": 371.0,\\n        \"25%\": 1241.666667,\\n        \"50%\": 1563.0,\\n        \"75%\": 2573.366667,\\n        \"max\": 5799.6\\n      }\\n    },\\n    {\\n      \"variable_name\": \"FlowerRichness\",\\n      \"variable_type\": \"numeric\",\\n      \"summary_statistics\": {\\n        \"count\": 1381.0,\\n        \"mean\": 12.660391021503983,\\n        \"std\": 3.9013758520504296,\\n        \"min\": 4.333333333,\\n        \"25%\": 9.666666667,\\n        \"50%\": 12.33333333,\\n        \"75%\": 15.66666667,\\n        \"max\": 20.66666667\\n      }\\n    },\\n    {\\n      \"variable_name\": \"NumberApis\",\\n      \"variable_type\": \"numeric\",\\n      \"summary_statistics\": {\\n        \"count\": 1381.0,\\n        \"mean\": 187.97393193591603,\\n        \"std\": 121.31939771044252,\\n        \"min\": 30.33333333,\\n        \"25%\": 88.0,\\n        \"50%\": 157.6666667,\\n        \"75%\": 284.6666667,\\n        \"max\": 486.3333333\\n      }\\n    }\\n  ],\\n  \"PiecewiseSEM_WildBeeNetworks\": [\\n    {\\n      \"variable_name\": \"Island\",\\n      \"variable_type\": \"categorical\",\\n      \"unique_values\": [\\n        {\\n          \"value\": \"Tinos\",\\n          \"count\": 5\\n        },\\n        {\\n          \"value\": \"Paros\",\\n          \"count\": 4\\n        },\\n        {\\n          \"value\": \"Santorini\",\\n          \"count\": 4\\n        },\\n        {\\n          \"value\": \"Anafi\",\\n          \"count\": 3\\n        },\\n        {\\n          \"value\": \"Folegandros\",\\n          \"count\": 3\\n        },\\n        {\\n          \"value\": \"Ios\",\\n          \"count\": 3\\n        },\\n        {\\n          \"value\": \"Kea\",\\n          \"count\": 3\\n        },\\n        {\\n          \"value\": \"Kythnos\",\\n          \"count\": 3\\n        },\\n        {\\n          \"value\": \"Milos\",\\n          \"count\": 3\\n        },\\n        {\\n          \"value\": \"Mykonos\",\\n          \"count\": 3\\n        },\\n        {\\n          \"value\": \"Serifos\",\\n          \"count\": 3\\n        },\\n        {\\n          \"value\": \"Syros\",\\n          \"count\": 3\\n        },\\n        {\\n          \"value\": \"Delos\",\\n          \"count\": 1\\n        }\\n      ]\\n    },\\n    {\\n      \"variable_name\": \"Site\",\\n      \"variable_type\": \"categorical\",\\n      \"unique_values\": [\\n        {\\n          \"value\": \"AnafiHelicodrome\",\\n          \"count\": 1\\n        },\\n        {\\n          \"value\": \"MykonosPanormos\",\\n          \"count\": 1\\n        },\\n        {\\n          \"value\": \"ParosAg.Ioannis\",\\n          \"count\": 1\\n        },\\n        {\\n          \"value\": \"ParosKamari\",\\n          \"count\": 1\\n        },\\n        {\\n          \"value\": \"ParosPetaloudes\",\\n          \"count\": 1\\n        },\\n        {\\n          \"value\": \"SantoriniAg.Fanourios\",\\n          \"count\": 1\\n        },\\n        {\\n          \"value\": \"SantoriniAkrotiri-Faros\",\\n          \"count\": 1\\n        },\\n        {\\n          \"value\": \"SantoriniPanaghiaKalou\",\\n          \"count\": 1\\n        },\\n        {\\n          \"value\": \"SantoriniPyrgos\",\\n          \"count\": 1\\n        },\\n        {\\n          \"value\": \"SerifosMegaloLivadi\",\\n          \"count\": 1\\n        },\\n        {\\n          \"value\": \"SerifosPanaghia\",\\n          \"count\": 1\\n        },\\n        {\\n          \"value\": \"SerifosSklavogianni\",\\n          \"count\": 1\\n        },\\n        {\\n          \"value\": \"SyrosHrousa\",\\n          \"count\": 1\\n        },\\n        {\\n          \"value\": \"SyrosKambos\",\\n          \"count\": 1\\n        },\\n        {\\n          \"value\": \"SyrosKomito\",\\n          \"count\": 1\\n        },\\n        {\\n          \"value\": \"TinosAgapi\",\\n          \"count\": 1\\n        },\\n        {\\n          \"value\": \"TinosGiannaki\",\\n          \"count\": 1\\n        },\\n        {\\n          \"value\": \"TinosKarya\",\\n          \"count\": 1\\n        },\\n        {\\n          \"value\": \"TinosLaouti\",\\n          \"count\": 1\\n        },\\n        {\\n          \"value\": \"ParosA.Horio\",\\n          \"count\": 1\\n        },\\n        {\\n          \"value\": \"MykonosOrnos\",\\n          \"count\": 1\\n        },\\n        {\\n          \"value\": \"AnafiVagia\",\\n          \"count\": 1\\n        },\\n        {\\n          \"value\": \"MykonosElia\",\\n          \"count\": 1\\n        },\\n        {\\n          \"value\": \"AnafiZoodohos\",\\n          \"count\": 1\\n        },\\n        {\\n          \"value\": \"DilosDilos\",\\n          \"count\": 1\\n        },\\n        {\\n          \"value\": \"FolegandrosAg.Georgios\",\\n          \"count\": 1\\n        },\\n        {\\n          \"value\": \"FolegandrosChyta\",\\n          \"count\": 1\\n        },\\n        {\\n          \"value\": \"FolegandrosKatergo\",\\n          \"count\": 1\\n        },\\n        {\\n          \"value\": \"IosAg.Theodoti\",\\n          \"count\": 1\\n        },\\n        {\\n          \"value\": \"IosKampos\",\\n          \"count\": 1\\n        },\\n        {\\n          \"value\": \"IosMersinia\",\\n          \"count\": 1\\n        },\\n        {\\n          \"value\": \"KeaSklavou\",\\n          \"count\": 1\\n        },\\n        {\\n          \"value\": \"KeaMylopotamos\",\\n          \"count\": 1\\n        },\\n        {\\n          \"value\": \"KeaPoisses\",\\n          \"count\": 1\\n        },\\n        {\\n          \"value\": \"KythnosAg.Sostis\",\\n          \"count\": 1\\n        },\\n        {\\n          \"value\": \"KythnosMerihas\",\\n          \"count\": 1\\n        },\\n        {\\n          \"value\": \"KythnosStratolatissa\",\\n          \"count\": 1\\n        },\\n        {\\n          \"value\": \"MilosAchivadolimni\",\\n          \"count\": 1\\n        },\\n        {\\n          \"value\": \"MilosFiropotamos\",\\n          \"count\": 1\\n        },\\n        {\\n          \"value\": \"MilosSarakiniko\",\\n          \"count\": 1\\n        },\\n        {\\n          \"value\": \"TinosMarlas\",\\n          \"count\": 1\\n        }\\n      ]\\n    },\\n    {\\n      \"variable_name\": \"NumberApis\",\\n      \"variable_type\": \"numeric\",\\n      \"summary_statistics\": {\\n        \"count\": 41.0,\\n        \"mean\": 185.57723577365854,\\n        \"std\": 124.06606717830799,\\n        \"min\": 0.0,\\n        \"25%\": 88.0,\\n        \"50%\": 157.6666667,\\n        \"75%\": 268.6666667,\\n        \"max\": 486.3333333\\n      }\\n    },\\n    {\\n      \"variable_name\": \"Areakm2\",\\n      \"variable_type\": \"numeric\",\\n      \"summary_statistics\": {\\n        \"count\": 41.0,\\n        \"mean\": 109.46748780487806,\\n        \"std\": 56.788091827478205,\\n        \"min\": 3.4,\\n        \"25%\": 76.19,\\n        \"50%\": 99.432,\\n        \"75%\": 151.0,\\n        \"max\": 196.308\\n      }\\n    },\\n    {\\n      \"variable_name\": \"FlowerAbundance\",\\n      \"variable_type\": \"numeric\",\\n      \"summary_statistics\": {\\n        \"count\": 41.0,\\n        \"mean\": 1768.1626016536586,\\n        \"std\": 1074.9857510261895,\\n        \"min\": 371.0,\\n        \"25%\": 1088.666667,\\n        \"50%\": 1480.0,\\n        \"75%\": 2322.666667,\\n        \"max\": 5799.6\\n      }\\n    },\\n    {\\n      \"variable_name\": \"FlowerRichness\",\\n      \"variable_type\": \"numeric\",\\n      \"summary_statistics\": {\\n        \"count\": 41.0,\\n        \"mean\": 11.463414634512196,\\n        \"std\": 4.1625833655168245,\\n        \"min\": 4.333333333,\\n        \"25%\": 8.666666667,\\n        \"50%\": 10.0,\\n        \"75%\": 14.66666667,\\n        \"max\": 20.66666667\\n      }\\n    },\\n    {\\n      \"variable_name\": \"%NaturalHabitats\",\\n      \"variable_type\": \"numeric\",\\n      \"summary_statistics\": {\\n        \"count\": 41.0,\\n        \"mean\": 67.59170755002441,\\n        \"std\": 26.704653083898847,\\n        \"min\": 0.0,\\n        \"25%\": 51.8729741,\\n        \"50%\": 66.41455385,\\n        \"75%\": 93.96081617,\\n        \"max\": 100.0000006\\n      }\\n    },\\n    {\\n      \"variable_name\": \"LandscapeHeterogeneity\",\\n      \"variable_type\": \"numeric\",\\n      \"summary_statistics\": {\\n        \"count\": 41.0,\\n        \"mean\": 0.7845666600243901,\\n        \"std\": 0.4210364758209186,\\n        \"min\": 0.0,\\n        \"25%\": 0.515647269,\\n        \"50%\": 0.879020555,\\n        \"75%\": 1.033010196,\\n        \"max\": 1.648184362\\n      }\\n    },\\n    {\\n      \"variable_name\": \"WildBeeRichnessSt\",\\n      \"variable_type\": \"numeric\",\\n      \"summary_statistics\": {\\n        \"count\": 41.0,\\n        \"mean\": 39.18356097560976,\\n        \"std\": 15.257755644341636,\\n        \"min\": 14.525,\\n        \"25%\": 28.834,\\n        \"50%\": 38.997,\\n        \"75%\": 52.21,\\n        \"max\": 71.675\\n      }\\n    },\\n    {\\n      \"variable_name\": \"WildBeeAbundanceSt\",\\n      \"variable_type\": \"numeric\",\\n      \"summary_statistics\": {\\n        \"count\": 41.0,\\n        \"mean\": 304.9200731707317,\\n        \"std\": 210.1049707584747,\\n        \"min\": 37.557,\\n        \"25%\": 118.266,\\n        \"50%\": 303.389,\\n        \"75%\": 398.686,\\n        \"max\": 870.413\\n      }\\n    },\\n    {\\n      \"variable_name\": \"links\",\\n      \"variable_type\": \"numeric\",\\n      \"summary_statistics\": {\\n        \"count\": 41.0,\\n        \"mean\": 63.21951219512195,\\n        \"std\": 33.340300084973705,\\n        \"min\": 11.0,\\n        \"25%\": 27.0,\\n        \"50%\": 64.0,\\n        \"75%\": 88.0,\\n        \"max\": 129.0\\n      }\\n    },\\n    {\\n      \"variable_name\": \"linkagedensity\",\\n      \"variable_type\": \"numeric\",\\n      \"summary_statistics\": {\\n        \"count\": 41.0,\\n        \"mean\": 3.226913564512195,\\n        \"std\": 0.9484653278538642,\\n        \"min\": 1.704362264,\\n        \"25%\": 2.810615312,\\n        \"50%\": 3.206621423,\\n        \"75%\": 3.723866185,\\n        \"max\": 6.329265882\\n      }\\n    },\\n    {\\n      \"variable_name\": \"weightedNODF\",\\n      \"variable_type\": \"numeric\",\\n      \"summary_statistics\": {\\n        \"count\": 41.0,\\n        \"mean\": 7.46850190282927,\\n        \"std\": 4.607706579952233,\\n        \"min\": 0.0,\\n        \"25%\": 4.572271386,\\n        \"50%\": 6.150793651,\\n        \"75%\": 9.053592763,\\n        \"max\": 21.42857143\\n      }\\n    },\\n    {\\n      \"variable_name\": \"modularity\",\\n      \"variable_type\": \"numeric\",\\n      \"summary_statistics\": {\\n        \"count\": 41.0,\\n        \"mean\": 0.6392882804878048,\\n        \"std\": 0.07442236995294231,\\n        \"min\": 0.5174343,\\n        \"25%\": 0.5732001,\\n        \"50%\": 0.6419386,\\n        \"75%\": 0.6878577,\\n        \"max\": 0.7923814\\n      }\\n    },\\n    {\\n      \"variable_name\": \"Z-score_linkagedensity\",\\n      \"variable_type\": \"numeric\",\\n      \"summary_statistics\": {\\n        \"count\": 41.0,\\n        \"mean\": -3.462492593878048,\\n        \"std\": 1.7630294695902282,\\n        \"min\": -8.057400496,\\n        \"25%\": -4.594070222,\\n        \"50%\": -3.47851387,\\n        \"75%\": -2.057763814,\\n        \"max\": -0.638665078\\n      }\\n    },\\n    {\\n      \"variable_name\": \"Z-score_weightedNODF\",\\n      \"variable_type\": \"numeric\",\\n      \"summary_statistics\": {\\n        \"count\": 41.0,\\n        \"mean\": -2.9889964753658536,\\n        \"std\": 1.6681909638543266,\\n        \"min\": -6.655625697,\\n        \"25%\": -4.224594877,\\n        \"50%\": -2.944819561,\\n        \"75%\": -1.927596317,\\n        \"max\": 0.91889372\\n      }\\n    },\\n    {\\n      \"variable_name\": \"Zmodularidad\",\\n      \"variable_type\": \"numeric\",\\n      \"summary_statistics\": {\\n        \"count\": 41.0,\\n        \"mean\": -0.7110678283414634,\\n        \"std\": 7.298397293137035,\\n        \"min\": -10.28181356,\\n        \"25%\": -5.50698323,\\n        \"50%\": -3.380232056,\\n        \"75%\": 2.149217041,\\n        \"max\": 25.27302087\\n      }\\n    }\\n  ],\\n  \"With_WithoutApis\": [\\n    {\\n      \"variable_name\": \"Island\",\\n      \"variable_type\": \"categorical\",\\n      \"unique_values\": [\\n        {\\n          \"value\": \"Tinos\",\\n          \"count\": 10\\n        },\\n        {\\n          \"value\": \"Paros\",\\n          \"count\": 8\\n        },\\n        {\\n          \"value\": \"Santorini\",\\n          \"count\": 8\\n        },\\n        {\\n          \"value\": \"Anafi\",\\n          \"count\": 6\\n        },\\n        {\\n          \"value\": \"Folegandros\",\\n          \"count\": 6\\n        },\\n        {\\n          \"value\": \"Ios\",\\n          \"count\": 6\\n        },\\n        {\\n          \"value\": \"Kea\",\\n          \"count\": 6\\n        },\\n        {\\n          \"value\": \"Kythnos\",\\n          \"count\": 6\\n        },\\n        {\\n          \"value\": \"Milos\",\\n          \"count\": 6\\n        },\\n        {\\n          \"value\": \"Mykonos\",\\n          \"count\": 6\\n        },\\n        {\\n          \"value\": \"Serifos\",\\n          \"count\": 6\\n        },\\n        {\\n          \"value\": \"Syros\",\\n          \"count\": 6\\n        }\\n      ]\\n    },\\n    {\\n      \"variable_name\": \"Island_Site\",\\n      \"variable_type\": \"categorical\",\\n      \"unique_values\": [\\n        {\\n          \"value\": \"AnafiHelicodrome\",\\n          \"count\": 2\\n        },\\n        {\\n          \"value\": \"AnafiVagia\",\\n          \"count\": 2\\n        },\\n        {\\n          \"value\": \"ParosAg. Ioannis\",\\n          \"count\": 2\\n        },\\n        {\\n          \"value\": \"ParosKamari\",\\n          \"count\": 2\\n        },\\n        {\\n          \"value\": \"ParosPetaloudes\",\\n          \"count\": 2\\n        },\\n        {\\n          \"value\": \"SantoriniAg. Fanourios Dune\",\\n          \"count\": 2\\n        },\\n        {\\n          \"value\": \"SantoriniAkrotiri-Faros\",\\n          \"count\": 2\\n        },\\n        {\\n          \"value\": \"SantoriniPanagia Kalou\",\\n          \"count\": 2\\n        },\\n        {\\n          \"value\": \"SantoriniPyrgos\",\\n          \"count\": 2\\n        },\\n        {\\n          \"value\": \"SerifosMegalo Livadi\",\\n          \"count\": 2\\n        },\\n        {\\n          \"value\": \"SerifosPanaghia\",\\n          \"count\": 2\\n        },\\n        {\\n          \"value\": \"SerifosSklavogianni\",\\n          \"count\": 2\\n        },\\n        {\\n          \"value\": \"SyrosHrousa\",\\n          \"count\": 2\\n        },\\n        {\\n          \"value\": \"SyrosKambos\",\\n          \"count\": 2\\n        },\\n        {\\n          \"value\": \"SyrosKomito\",\\n          \"count\": 2\\n        },\\n        {\\n          \"value\": \"TinosAgapi\",\\n          \"count\": 2\\n        },\\n        {\\n          \"value\": \"TinosGiannaki\",\\n          \"count\": 2\\n        },\\n        {\\n          \"value\": \"TinosKarya\",\\n          \"count\": 2\\n        },\\n        {\\n          \"value\": \"TinosLaouti\",\\n          \"count\": 2\\n        },\\n        {\\n          \"value\": \"ParosA. Horio\",\\n          \"count\": 2\\n        },\\n        {\\n          \"value\": \"MykonosPanormos\",\\n          \"count\": 2\\n        },\\n        {\\n          \"value\": \"MykonosOrnos\",\\n          \"count\": 2\\n        },\\n        {\\n          \"value\": \"KeaDihala Sklavou\",\\n          \"count\": 2\\n        },\\n        {\\n          \"value\": \"AnafiZoodohos Pigi\",\\n          \"count\": 2\\n        },\\n        {\\n          \"value\": \"FolegandrosAg. Georgios\",\\n          \"count\": 2\\n        },\\n        {\\n          \"value\": \"FolegandrosChyta\",\\n          \"count\": 2\\n        },\\n        {\\n          \"value\": \"FolegandrosKatergo\",\\n          \"count\": 2\\n        },\\n        {\\n          \"value\": \"IosAg. Theodoti\",\\n          \"count\": 2\\n        },\\n        {\\n          \"value\": \"IosKambos\",\\n          \"count\": 2\\n        },\\n        {\\n          \"value\": \"IosMersinia\",\\n          \"count\": 2\\n        },\\n        {\\n          \"value\": \"KeaMylopotamos\",\\n          \"count\": 2\\n        },\\n        {\\n          \"value\": \"MykonosElia\",\\n          \"count\": 2\\n        },\\n        {\\n          \"value\": \"KeaPoisses\",\\n          \"count\": 2\\n        },\\n        {\\n          \"value\": \"KythnosAg. Sostis\",\\n          \"count\": 2\\n        },\\n        {\\n          \"value\": \"KythnosMerihas\",\\n          \"count\": 2\\n        },\\n        {\\n          \"value\": \"KythnosStratolatissa\",\\n          \"count\": 2\\n        },\\n        {\\n          \"value\": \"MilosAchivadolimni\",\\n          \"count\": 2\\n        },\\n        {\\n          \"value\": \"MilosFiropotamos\",\\n          \"count\": 2\\n        },\\n        {\\n          \"value\": \"MilosSarakiniko\",\\n          \"count\": 2\\n        },\\n        {\\n          \"value\": \"TinosMarlas\",\\n          \"count\": 2\\n        }\\n      ]\\n    },\\n    {\\n      \"variable_name\": \"Apis\",\\n      \"variable_type\": \"categorical\",\\n      \"unique_values\": [\\n        {\\n          \"value\": \"WITH\",\\n          \"count\": 40\\n        },\\n        {\\n          \"value\": \"WITHOUT\",\\n          \"count\": 40\\n        }\\n      ]\\n    },\\n    {\\n      \"variable_name\": \"NumberApis\",\\n      \"variable_type\": \"numeric\",\\n      \"summary_statistics\": {\\n        \"count\": 80.0,\\n        \"mean\": 190.21666666799996,\\n        \"std\": 121.21700154444959,\\n        \"min\": 30.33333333,\\n        \"25%\": 93.25,\\n        \"50%\": 162.0,\\n        \"75%\": 272.6666667,\\n        \"max\": 486.3333333\\n      }\\n    },\\n    {\\n      \"variable_name\": \"Plants\",\\n      \"variable_type\": \"numeric\",\\n      \"summary_statistics\": {\\n        \"count\": 80.0,\\n        \"mean\": 20.7875,\\n        \"std\": 8.692632920387677,\\n        \"min\": 4.0,\\n        \"25%\": 14.0,\\n        \"50%\": 20.0,\\n        \"75%\": 28.0,\\n        \"max\": 43.0\\n      }\\n    },\\n    {\\n      \"variable_name\": \"links\",\\n      \"variable_type\": \"numeric\",\\n      \"summary_statistics\": {\\n        \"count\": 80.0,\\n        \"mean\": 71.475,\\n        \"std\": 35.307680162834444,\\n        \"min\": 11.0,\\n        \"25%\": 38.5,\\n        \"50%\": 75.5,\\n        \"75%\": 98.25,\\n        \"max\": 145.0\\n      }\\n    },\\n    {\\n      \"variable_name\": \"linkagedensity\",\\n      \"variable_type\": \"numeric\",\\n      \"summary_statistics\": {\\n        \"count\": 80.0,\\n        \"mean\": 3.4624785040874997,\\n        \"std\": 0.9417222774388794,\\n        \"min\": 1.496353036,\\n        \"25%\": 2.9007722615000002,\\n        \"50%\": 3.5185881595,\\n        \"75%\": 3.8775348565,\\n        \"max\": 6.77956185\\n      }\\n    },\\n    {\\n      \"variable_name\": \"weightedNODF\",\\n      \"variable_type\": \"numeric\",\\n      \"summary_statistics\": {\\n        \"count\": 80.0,\\n        \"mean\": 10.563002259275,\\n        \"std\": 6.129500623972008,\\n        \"min\": 0.0,\\n        \"25%\": 5.835890212,\\n        \"50%\": 9.417519996,\\n        \"75%\": 14.20773018,\\n        \"max\": 31.95970696\\n      }\\n    },\\n    {\\n      \"variable_name\": \"modularity\",\\n      \"variable_type\": \"numeric\",\\n      \"summary_statistics\": {\\n        \"count\": 80.0,\\n        \"mean\": 0.46981394187500003,\\n        \"std\": 0.20792077304003145,\\n        \"min\": 0.02950723,\\n        \"25%\": 0.28270127500000003,\\n        \"50%\": 0.5356370500000001,\\n        \"75%\": 0.64841625,\\n        \"max\": 0.7923814\\n      }\\n    },\\n    {\\n      \"variable_name\": \"Z-score_linkagedensity\",\\n      \"variable_type\": \"numeric\",\\n      \"summary_statistics\": {\\n        \"count\": 80.0,\\n        \"mean\": -4.0897674248375,\\n        \"std\": 2.1906351606413836,\\n        \"min\": -10.06212182,\\n        \"25%\": -5.6149174795,\\n        \"50%\": -3.783801039,\\n        \"75%\": -2.35000866475,\\n        \"max\": 0.023677627\\n      }\\n    },\\n    {\\n      \"variable_name\": \"Z-score_weightedNODF\",\\n      \"variable_type\": \"numeric\",\\n      \"summary_statistics\": {\\n        \"count\": 80.0,\\n        \"mean\": -3.8883918257375,\\n        \"std\": 1.851572685344558,\\n        \"min\": -8.361405132,\\n        \"25%\": -5.40616381725,\\n        \"50%\": -4.1476430314999995,\\n        \"75%\": -2.58890630475,\\n        \"max\": 0.91889372\\n      }\\n    },\\n    {\\n      \"variable_name\": \"Z-score_modularity\",\\n      \"variable_type\": \"numeric\",\\n      \"summary_statistics\": {\\n        \"count\": 80.0,\\n        \"mean\": 7.817597908400001,\\n        \"std\": 11.298209258063386,\\n        \"min\": -10.28181356,\\n        \"25%\": -3.39215582375,\\n        \"50%\": 7.1400754289999995,\\n        \"75%\": 16.522246155,\\n        \"max\": 34.37235264\\n      }\\n    }\\n  ],\\n  \"Differences_WIth_WithoutApis\": [\\n    {\\n      \"variable_name\": \"Island\",\\n      \"variable_type\": \"categorical\",\\n      \"unique_values\": [\\n        {\\n          \"value\": \"Tinos\",\\n          \"count\": 5\\n        },\\n        {\\n          \"value\": \"Paros\",\\n          \"count\": 4\\n        },\\n        {\\n          \"value\": \"Santorini\",\\n          \"count\": 4\\n        },\\n        {\\n          \"value\": \"Anafi\",\\n          \"count\": 3\\n        },\\n        {\\n          \"value\": \"Folegandros\",\\n          \"count\": 3\\n        },\\n        {\\n          \"value\": \"Ios\",\\n          \"count\": 3\\n        },\\n        {\\n          \"value\": \"Kea\",\\n          \"count\": 3\\n        },\\n        {\\n          \"value\": \"Kythnos\",\\n          \"count\": 3\\n        },\\n        {\\n          \"value\": \"Milos\",\\n          \"count\": 3\\n        },\\n        {\\n          \"value\": \"Mykonos\",\\n          \"count\": 3\\n        },\\n        {\\n          \"value\": \"Serifos\",\\n          \"count\": 3\\n        },\\n        {\\n          \"value\": \"Syros\",\\n          \"count\": 3\\n        }\\n      ]\\n    },\\n    {\\n      \"variable_name\": \"Island_SIte\",\\n      \"variable_type\": \"categorical\",\\n      \"unique_values\": [\\n        {\\n          \"value\": \"AnafiHelicodrome\",\\n          \"count\": 1\\n        },\\n        {\\n          \"value\": \"AnafiVagia\",\\n          \"count\": 1\\n        },\\n        {\\n          \"value\": \"ParosAg. Ioannis\",\\n          \"count\": 1\\n        },\\n        {\\n          \"value\": \"ParosKamari\",\\n          \"count\": 1\\n        },\\n        {\\n          \"value\": \"ParosPetaloudes\",\\n          \"count\": 1\\n        },\\n        {\\n          \"value\": \"SantoriniAg. Fanourios Dune\",\\n          \"count\": 1\\n        },\\n        {\\n          \"value\": \"SantoriniAkrotiri-Faros\",\\n          \"count\": 1\\n        },\\n        {\\n          \"value\": \"SantoriniPanagia Kalou\",\\n          \"count\": 1\\n        },\\n        {\\n          \"value\": \"SantoriniPyrgos\",\\n          \"count\": 1\\n        },\\n        {\\n          \"value\": \"SerifosMegalo Livadi\",\\n          \"count\": 1\\n        },\\n        {\\n          \"value\": \"SerifosPanaghia\",\\n          \"count\": 1\\n        },\\n        {\\n          \"value\": \"SerifosSklavogianni\",\\n          \"count\": 1\\n        },\\n        {\\n          \"value\": \"SyrosHrousa\",\\n          \"count\": 1\\n        },\\n        {\\n          \"value\": \"SyrosKambos\",\\n          \"count\": 1\\n        },\\n        {\\n          \"value\": \"SyrosKomito\",\\n          \"count\": 1\\n        },\\n        {\\n          \"value\": \"TinosAgapi\",\\n          \"count\": 1\\n        },\\n        {\\n          \"value\": \"TinosGiannaki\",\\n          \"count\": 1\\n        },\\n        {\\n          \"value\": \"TinosKarya\",\\n          \"count\": 1\\n        },\\n        {\\n          \"value\": \"TinosLaouti\",\\n          \"count\": 1\\n        },\\n        {\\n          \"value\": \"ParosA. Horio\",\\n          \"count\": 1\\n        },\\n        {\\n          \"value\": \"MykonosPanormos\",\\n          \"count\": 1\\n        },\\n        {\\n          \"value\": \"MykonosOrnos\",\\n          \"count\": 1\\n        },\\n        {\\n          \"value\": \"KeaDihala Sklavou\",\\n          \"count\": 1\\n        },\\n        {\\n          \"value\": \"AnafiZoodohos Pigi\",\\n          \"count\": 1\\n        },\\n        {\\n          \"value\": \"FolegandrosAg. Georgios\",\\n          \"count\": 1\\n        },\\n        {\\n          \"value\": \"FolegandrosChyta\",\\n          \"count\": 1\\n        },\\n        {\\n          \"value\": \"FolegandrosKatergo\",\\n          \"count\": 1\\n        },\\n        {\\n          \"value\": \"IosAg. Theodoti\",\\n          \"count\": 1\\n        },\\n        {\\n          \"value\": \"IosKambos\",\\n          \"count\": 1\\n        },\\n        {\\n          \"value\": \"IosMersinia\",\\n          \"count\": 1\\n        },\\n        {\\n          \"value\": \"KeaMylopotamos\",\\n          \"count\": 1\\n        },\\n        {\\n          \"value\": \"MykonosElia\",\\n          \"count\": 1\\n        },\\n        {\\n          \"value\": \"KeaPoisses\",\\n          \"count\": 1\\n        },\\n        {\\n          \"value\": \"KythnosAg. Sostis\",\\n          \"count\": 1\\n        },\\n        {\\n          \"value\": \"KythnosMerihas\",\\n          \"count\": 1\\n        },\\n        {\\n          \"value\": \"KythnosStratolatissa\",\\n          \"count\": 1\\n        },\\n        {\\n          \"value\": \"MilosAchivadolimni\",\\n          \"count\": 1\\n        },\\n        {\\n          \"value\": \"MilosFiropotamos\",\\n          \"count\": 1\\n        },\\n        {\\n          \"value\": \"MilosSarakiniko\",\\n          \"count\": 1\\n        },\\n        {\\n          \"value\": \"TinosMarlas\",\\n          \"count\": 1\\n        }\\n      ]\\n    },\\n    {\\n      \"variable_name\": \"NumberApis\",\\n      \"variable_type\": \"numeric\",\\n      \"summary_statistics\": {\\n        \"count\": 40.0,\\n        \"mean\": 190.21666666799996,\\n        \"std\": 121.99155895613414,\\n        \"min\": 30.33333333,\\n        \"25%\": 93.25,\\n        \"50%\": 162.0,\\n        \"75%\": 272.6666667,\\n        \"max\": 486.3333333\\n      }\\n    },\\n    {\\n      \"variable_name\": \"DIFFWith_Without_links\",\\n      \"variable_type\": \"numeric\",\\n      \"summary_statistics\": {\\n        \"count\": 40.0,\\n        \"mean\": 14.55,\\n        \"std\": 5.692775448556908,\\n        \"min\": 5.0,\\n        \"25%\": 10.0,\\n        \"50%\": 13.0,\\n        \"75%\": 17.25,\\n        \"max\": 29.0\\n      }\\n    },\\n    {\\n      \"variable_name\": \"DIFFWith_Without_Plants\",\\n      \"variable_type\": \"numeric\",\\n      \"summary_statistics\": {\\n        \"count\": 40.0,\\n        \"mean\": 5.125,\\n        \"std\": 2.8661373989646046,\\n        \"min\": 0.0,\\n        \"25%\": 3.0,\\n        \"50%\": 5.0,\\n        \"75%\": 6.25,\\n        \"max\": 12.0\\n      }\\n    },\\n    {\\n      \"variable_name\": \"DIFFWith_Without_linkagedensity\",\\n      \"variable_type\": \"numeric\",\\n      \"summary_statistics\": {\\n        \"count\": 40.0,\\n        \"mean\": 0.39856792807499997,\\n        \"std\": 1.09803097139178,\\n        \"min\": -2.255804447,\\n        \"25%\": -0.1600466945,\\n        \"50%\": 0.4163213715,\\n        \"75%\": 0.8485878840000001,\\n        \"max\": 3.532076936\\n      }\\n    },\\n    {\\n      \"variable_name\": \"DIFFWith_Without_weightedNODF\",\\n      \"variable_type\": \"numeric\",\\n      \"summary_statistics\": {\\n        \"count\": 40.0,\\n        \"mean\": 6.305158950925,\\n        \"std\": 3.644125372321605,\\n        \"min\": 0.898093971,\\n        \"25%\": 3.0289711925000002,\\n        \"50%\": 5.7061968255,\\n        \"75%\": 9.37264286775,\\n        \"max\": 15.8436214\\n      }\\n    },\\n    {\\n      \"variable_name\": \"DIFFWith_Without_modularity\",\\n      \"variable_type\": \"numeric\",\\n      \"summary_statistics\": {\\n        \"count\": 40.0,\\n        \"mean\": -0.33474230125000004,\\n        \"std\": 0.18562519391440896,\\n        \"min\": -0.6828228,\\n        \"25%\": -0.466835275,\\n        \"50%\": -0.35579325,\\n        \"75%\": -0.206613475,\\n        \"max\": -0.0001529\\n      }\\n    },\\n    {\\n      \"variable_name\": \"DIFFWith_Without_Z-score_linkagedensity\",\\n      \"variable_type\": \"numeric\",\\n      \"summary_statistics\": {\\n        \"count\": 40.0,\\n        \"mean\": -1.187948390875,\\n        \"std\": 1.6416663650678882,\\n        \"min\": -4.882277576,\\n        \"25%\": -2.171508663,\\n        \"50%\": -1.092065303,\\n        \"75%\": 0.025262062499999998,\\n        \"max\": 1.508227378\\n      }\\n    },\\n    {\\n      \"variable_name\": \"DIFFWith_Without_Z-score_weightedNODF\",\\n      \"variable_type\": \"numeric\",\\n      \"summary_statistics\": {\\n        \"count\": 40.0,\\n        \"mean\": -1.7515019482749998,\\n        \"std\": 1.4834405649493263,\\n        \"min\": -4.461536612,\\n        \"25%\": -2.808115856,\\n        \"50%\": -1.7269242005,\\n        \"75%\": -0.58021011,\\n        \"max\": 0.958288401\\n      }\\n    },\\n    {\\n      \"variable_name\": \"DIFFWith_Without_Z-score_modularity\",\\n      \"variable_type\": \"numeric\",\\n      \"summary_statistics\": {\\n        \"count\": 40.0,\\n        \"mean\": 17.252824553975,\\n        \"std\": 7.9545515169058545,\\n        \"min\": 0.9070713,\\n        \"25%\": 13.0977048825,\\n        \"50%\": 16.746477775000002,\\n        \"75%\": 21.302578085,\\n        \"max\": 32.55863359\\n      }\\n    }\\n  ]\\n}'"
      ]
     },
     "execution_count": 72,
     "metadata": {},
     "output_type": "execute_result"
    }
   ],
   "source": [
    "dataset"
   ]
  },
  {
   "cell_type": "markdown",
   "metadata": {},
   "source": [
    "## 3. LangChain LLM Setup"
   ]
  },
  {
   "cell_type": "code",
   "execution_count": 84,
   "metadata": {},
   "outputs": [],
   "source": [
    "summarization_llm = ChatOpenAI(\n",
    "    temperature=0.0,\n",
    "    model_name=\"gpt-4o\" \n",
    ")\n",
    "\n",
    "planner_llm = ChatOpenAI(\n",
    "    temperature=1,\n",
    "    model_name=\"o1-mini\"\n",
    ")\n",
    "\n",
    "executor_llm = ChatOpenAI(\n",
    "    temperature=0.0,\n",
    "    model_name=\"o1-mini\"\n",
    ")"
   ]
  },
  {
   "cell_type": "code",
   "execution_count": 85,
   "metadata": {},
   "outputs": [],
   "source": [
    "statistical_methods_prompt = PromptTemplate(\n",
    "    input_variables=[\"full_text\"],\n",
    "    template=(\n",
    "        \"You are a model specialized in ecological data analysis.\\n\"\n",
    "        \"Read the following text delimited by triple backticks and list all information on the dataset and statistical analyses used.\\n\"\n",
    "        \"Focus ONLY on:\\n\"\n",
    "        \"- Extracting all of the tested hypotheses.\\n\"\n",
    "        \"- Listing all variables that were collected.\\n\"\n",
    "        \"- Providing example values for categorical variables, and ranges for continuous variables (if available).\\n\"\n",
    "        \"- Listing all statistical methods with every detail of the performed analysis (specifically which functions, settings, and variables were used).\\n\"\n",
    "        \"Return only the report.\\n\"\n",
    "        \"```\\n{full_text}\\n```\"\n",
    "    )\n",
    ")\n",
    "\n",
    "# data_summarization_prompt = PromptTemplate(\n",
    "#     input_variables=[\"dataset\"],\n",
    "#     template=(\n",
    "#         \"Summarize the dataset like this:\\n\"\n",
    "#         \"1. Look at each sheet in the dataset.\\n\"\n",
    "#         \"2. Describe birefly what it contains\\n\"\n",
    "#         \"3. For each column in every sheet provide:\\n\"\n",
    "#         \"a) Short description, what do you think this variable is about based on its name and values.\\n\"\n",
    "#         \"b) Inferred type.\\n\"\n",
    "#         \"c) Standard summary statisitics if it is a numeric column.\\n\"\n",
    "#         \"d) Unique values and unique value counts if it is a categrical valriable.\\n\"\n",
    "#         \"e) Time span for time data.\\n\"\n",
    "#         \"4. Format your response as XML.\\n\"\n",
    "#         \"Dataset: \\n{dataset}\\n\"\n",
    "#     )\n",
    "# )\n",
    "\n",
    "planner_prompt = PromptTemplate(\n",
    "    input_variables=[\"methodology_summary\", \"dataset_summary\"],\n",
    "    template=(\n",
    "        \"You are a planning model. Based on the methodology summary and dataset summary, \"\n",
    "        \"plan a step-by-step routine (as programmatic pseudocode or structured steps) \"\n",
    "        \"to execute the identified statistical analyses on the full dataset.\\n\\n\"\n",
    "        \"Methodology Summary:\\n{methodology_summary}\\n\\n\"\n",
    "        \"Dataset Summary:\\n{dataset_summary}\\n\\n\"\n",
    "        \"Provide your plan in XML format, with each <Step> containing a structured explanation \"\n",
    "        \"of how to implement it programmatically.\"\n",
    "    )\n",
    ")\n",
    "\n",
    "\n",
    "executor_prompt = PromptTemplate(\n",
    "    input_variables=[\"analysis_plan_xml\"],\n",
    "    template=(\n",
    "        \"You are an executor model specialized in generating R scripts for each step. \"\n",
    "        \"Given the plan in XML, do the following:\\n\"\n",
    "        \"1. Generate separate R scripts for each analysis step.\\n\"\n",
    "        \"2. Generate a single master R script that runs them all in a structured manner.\\n\"\n",
    "        \"Output your results clearly, indicating how the scripts should be saved.\\n\\n\"\n",
    "        \"Plan XML:\\n{analysis_plan_xml}\"\n",
    "    )\n",
    ")"
   ]
  },
  {
   "cell_type": "code",
   "execution_count": 78,
   "metadata": {},
   "outputs": [],
   "source": [
    "# --- Step 1: Read PDF and extract methodology ---\n",
    "pdf_path = \"../data/poc_example_data/lazaro_et_al_2021_accessible.pdf\"\n",
    "full_text = extract_text_from_pdf(pdf_path)"
   ]
  },
  {
   "cell_type": "code",
   "execution_count": 79,
   "metadata": {},
   "outputs": [],
   "source": [
    "# --- Step 2: Summarize the methodology section & extract stats info ---\n",
    "summarization_chain = LLMChain(llm=summarization_llm, prompt=statistical_methods_prompt)\n",
    "summary_result = summarization_chain.run(full_text=full_text)"
   ]
  },
  {
   "cell_type": "code",
   "execution_count": 80,
   "metadata": {},
   "outputs": [
    {
     "data": {
      "text/plain": [
       "\"**Report on Dataset and Statistical Analyses**\\n\\n**Tested Hypotheses:**\\n1. High honey bee visitation is negatively related to wild bee richness and abundance, suggesting interspecific competition.\\n2. High honey bee visitation increases competition for resources with wild bees, with varying effects between bee families.\\n3. High honey bee visitation influences the structure of wild bee pollination networks, directly or indirectly through changes in pollinator diversity.\\n\\n**Variables Collected:**\\n- Honey bee visitation rate (visits to flowers per 2-hour survey)\\n- Wild bee richness (number of species)\\n- Wild bee abundance (number of individuals)\\n- Flower abundance (number of flowers per m²)\\n- Flower richness (number of plant species with flowers)\\n- Landscape heterogeneity (Shannon's diversity index)\\n- Percentage of natural and semi-natural habitats\\n- Island area (km²)\\n\\n**Example Values and Ranges:**\\n- Honey bee visitation rate: 0.0 to 486.3 visits per 2 hours\\n- Wild bee richness: 16 to 75 species\\n- Wild bee abundance: 9.3 to 269.0 visits per 2 hours\\n- Flower abundance: Not specified\\n- Flower richness: Not specified\\n- Landscape heterogeneity: Not specified\\n- Percentage of natural habitats: Not specified\\n- Island area: Not specified\\n\\n**Statistical Methods:**\\n1. **Generalized Linear Mixed Models (GLMMs):**\\n   - Used to study the relationship between honey bee visitation rate and wild bee abundance and richness.\\n   - Variables: Honey bee visitation rate, flower abundance, flower richness, landscape variables, log of island area.\\n   - Random variable: Island.\\n   - Distribution: Gamma distribution with log link function for most models; Poisson distribution for the number of links.\\n   - Model selection: Dredge function (R-package MuMIn ver. 1.43.17), maximum 4 variables to avoid over-parametrization.\\n   - Significance: Likelihood ratio tests (LRT), Anova function (R-package car ver. 3.0.8).\\n   - R² values: r2beta function (R-package r2glmm ver. 0.1.2).\\n\\n2. **Piecewise Structural Equation Model (SEM):**\\n   - Used to assess direct and indirect effects of honey bee visitation rate on wild bee network metrics.\\n   - Variables: Honey bee visitation rate, wild bee abundance and richness, log (island area), floral and landscape variables.\\n   - Random variable: Island.\\n   - Distribution: Gamma distributions with log link functions after scaling variables.\\n   - Global goodness-of-fit: Tests of directed separation.\\n\\n3. **Pollination Network Analysis:**\\n   - Constructed using R-package bipartite ver. 2.15.\\n   - Indices calculated: Number of links, number of plant species, linkage density, nestedness, modularity.\\n   - Null model: vaznull for z-scores.\\n\\n4. **Potential Competition Analysis:**\\n   - Apparent competition index of Müller et al. (1999) using PAC function.\\n   - Analyzed potential resource competition between honey bees and wild bees.\\n\\n5. **Variation Inflation Factor (VIF) Analysis:**\\n   - Identified collinearity between landscape variables.\\n\\n6. **A Posteriori Tests:**\\n   - Emtrends function (R-package emmeans ver. 1.4.8) for differences between slopes for each wild bee family.\\n\\nThis report summarizes the dataset and statistical analyses used in the study on the impacts of beekeeping on wild bee diversity and pollination networks in the Aegean Archipelago.\""
      ]
     },
     "execution_count": 80,
     "metadata": {},
     "output_type": "execute_result"
    }
   ],
   "source": [
    "summary_result"
   ]
  },
  {
   "cell_type": "code",
   "execution_count": 86,
   "metadata": {},
   "outputs": [],
   "source": [
    "# Plan statistical analyses based on the methodology summary and the dataset summary\n",
    "planner_chain = LLMChain(llm=planner_llm, prompt=planner_prompt)\n",
    "plan_analyses_xml = planner_chain.run(\n",
    "        methodology_summary=summary_result,\n",
    "        dataset_summary=dataset\n",
    "    )"
   ]
  },
  {
   "cell_type": "code",
   "execution_count": 87,
   "metadata": {},
   "outputs": [
    {
     "data": {
      "text/plain": [
       "'```xml\\n<AnalysisPlan>\\n    <Step number=\"1\">\\n        <Description>\\n            Load all necessary R libraries required for the analysis.\\n        </Description>\\n        <Actions>\\n            <Action>Load libraries: lme4, MuMIn, car, r2glmm, bipartite, emmeans, piecewiseSEM, PAC, etc.</Action>\\n            <ExampleCode>\\n                <![CDATA[\\n                library(lme4)\\n                library(MuMIn)\\n                library(car)\\n                library(r2glmm)\\n                library(bipartite)\\n                library(emmeans)\\n                library(piecewiseSEM)\\n                library(PAC)\\n                ]]>\\n            </ExampleCode>\\n        </Actions>\\n    </Step>\\n\\n    <Step number=\"2\">\\n        <Description>\\n            Import and merge all relevant datasets into a single data frame for analysis.\\n        </Description>\\n        <Actions>\\n            <Action>Read datasets: WildBeeDiversit&Abundance, PAC, PiecewiseSEM_WildBeeNetworks, With_WithoutApis, Differences_WIth_WithoutApis.</Action>\\n            <Action>Merge datasets based on common keys such as Island and Site.</Action>\\n            <Action>Ensure all variables are correctly typed (categorical vs numeric).</Action>\\n            <ExampleCode>\\n                <![CDATA[\\n                WildBee <- read.csv(\"WildBeeDiversitAbundance.csv\")\\n                PAC <- read.csv(\"PAC.csv\")\\n                SEM_Networks <- read.csv(\"PiecewiseSEM_WildBeeNetworks.csv\")\\n                WithWithoutApis <- read.csv(\"With_WithoutApis.csv\")\\n                Differences <- read.csv(\"Differences_WIth_WithoutApis.csv\")\\n                \\n                # Merge datasets example\\n                full_data <- merge(WildBee, PAC, by=c(\"Island\", \"Island_Site\"))\\n                full_data <- merge(full_data, SEM_Networks, by=c(\"Island\", \"Site\"))\\n                full_data <- merge(full_data, WithWithoutApis, by=c(\"Island\", \"Island_Site\"))\\n                full_data <- merge(full_data, Differences, by=c(\"Island\", \"Island_Site\"))\\n                ]]>\\n            </ExampleCode>\\n        </Actions>\\n    </Step>\\n\\n    <Step number=\"3\">\\n        <Description>\\n            Data Cleaning and Preparation.\\n        </Description>\\n        <Actions>\\n            <Action>Check for missing values and handle them appropriately (e.g., imputation or removal).</Action>\\n            <Action>Scale continuous variables as required for SEM.</Action>\\n            <Action>Convert categorical variables to factors.</Action>\\n            <ExampleCode>\\n                <![CDATA[\\n                # Check for missing values\\n                summary(full_data)\\n                full_data <- na.omit(full_data)\\n                \\n                # Scale variables for SEM\\n                full_data_scaled <- scale(full_data[, c(\"HoneyBeeVisitationRate\", \"WildBeeRichnessSt\", \"WildBeeAbundanceSt\", \"Areakm2\", \"FlowerAbundance\", \"FlowerRichness\", \"LandscapeHeterogeneity\", \"%NaturalHabitats\")])\\n                full_data[, c(\"HoneyBeeVisitationRate\", \"WildBeeRichnessSt\", \"WildBeeAbundanceSt\", \"Areakm2\", \"FlowerAbundance\", \"FlowerRichness\", \"LandscapeHeterogeneity\", \"%NaturalHabitats\")] <- full_data_scaled\\n                \\n                # Convert categorical variables to factors\\n                full_data$Island <- as.factor(full_data$Island)\\n                full_data$Island_Site <- as.factor(full_data$Island_Site)\\n                ]]>\\n            </ExampleCode>\\n        </Actions>\\n    </Step>\\n\\n    <Step number=\"4\">\\n        <Description>\\n            Exploratory Data Analysis (EDA).\\n        </Description>\\n        <Actions>\\n            <Action>Generate summary statistics and visualizations for all variables.</Action>\\n            <Action>Check distributions of response variables (Wild Bee Richness and Abundance).</Action>\\n            <Action>Identify potential outliers.</Action>\\n            <ExampleCode>\\n                <![CDATA[\\n                # Summary statistics\\n                summary(full_data)\\n                \\n                # Histograms\\n                hist(full_data$WildBeeRichnessSt)\\n                hist(full_data$WildBeeAbundanceSt)\\n                \\n                # Boxplots\\n                boxplot(WildBeeRichnessSt ~ Island, data=full_data)\\n                boxplot(WildBeeAbundanceSt ~ Island, data=full_data)\\n                ]]>\\n            </ExampleCode>\\n        </Actions>\\n    </Step>\\n\\n    <Step number=\"5\">\\n        <Description>\\n            Perform Variation Inflation Factor (VIF) Analysis to Identify Multicollinearity.\\n        </Description>\\n        <Actions>\\n            <Action>Fit an initial linear model with all predictor variables.</Action>\\n            <Action>Calculate VIF for each predictor to assess collinearity.</Action>\\n            <Action>Remove variables with VIF > 5 and refit the model iteratively.</Action>\\n            <ExampleCode>\\n                <![CDATA[\\n                # Initial model\\n                initial_model <- lm(WildBeeRichnessSt ~ HoneyBeeVisitationRate + FlowerAbundance + FlowerRichness + LandscapeHeterogeneity + Areakm2 + `%NaturalHabitats`, data=full_data)\\n                \\n                # Calculate VIF\\n                vif_values <- vif(initial_model)\\n                \\n                # Remove variables with high VIF and refit\\n                # Example: if LandscapeHeterogeneity has VIF > 5\\n                refined_model <- lm(WildBeeRichnessSt ~ HoneyBeeVisitationRate + FlowerAbundance + FlowerRichness + Areakm2 + `%NaturalHabitats`, data=full_data)\\n                vif(refined_model)\\n                ]]>\\n            </ExampleCode>\\n        </Actions>\\n    </Step>\\n\\n    <Step number=\"6\">\\n        <Description>\\n            Generalized Linear Mixed Models (GLMMs) for Testing Hypotheses 1 and 2.\\n        </Description>\\n        <SubSteps>\\n            <SubStep number=\"6.1\">\\n                <Description>\\n                    Model Wild Bee Richness as a function of Honey Bee Visitation Rate and other predictors with Island as a random effect.\\n                </Description>\\n                <Actions>\\n                    <Action>Specify GLMM with Gamma distribution and log link.</Action>\\n                    <Action>Use dredge function for model selection with a maximum of 4 predictors.</Action>\\n                    <Action>Select the best model based on AIC.</Action>\\n                    <ExampleCode>\\n                        <![CDATA[\\n                        library(lme4)\\n                        model_richness <- glmer(WildBeeRichnessSt ~ HoneyBeeVisitationRate + FlowerAbundance + FlowerRichness + LandscapeHeterogeneity + Areakm2 + `%NaturalHabitats` + (1|Island),\\n                                                data=full_data, family=Gamma(link=\"log\"))\\n                        \\n                        # Model selection\\n                        library(MuMIn)\\n                        dredge_results <- dredge(model_richness, m.lim = c(1,4))\\n                        best_model <- get.models(dredge_results, subset=1)[[1]]\\n                        summary(best_model)\\n                        ]]>\\n                    </ExampleCode>\\n                </Actions>\\n            </SubStep>\\n            <SubStep number=\"6.2\">\\n                <Description>\\n                    Model Wild Bee Abundance similarly.\\n                </Description>\\n                <Actions>\\n                    <Action>Specify GLMM with appropriate distribution (Gamma or Poisson).</Action>\\n                    <Action>Perform model selection using dredge.</Action>\\n                    <Action>Select and summarize the best model.</Action>\\n                    <ExampleCode>\\n                        <![CDATA[\\n                        model_abundance <- glmer(WildBeeAbundanceSt ~ HoneyBeeVisitationRate + FlowerAbundance + FlowerRichness + LandscapeHeterogeneity + Areakm2 + `%NaturalHabitats` + (1|Island),\\n                                                data=full_data, family=Gamma(link=\"log\"))\\n                        \\n                        dredge_results_abundance <- dredge(model_abundance, m.lim = c(1,4))\\n                        best_model_abundance <- get.models(dredge_results_abundance, subset=1)[[1]]\\n                        summary(best_model_abundance)\\n                        ]]>\\n                    </ExampleCode>\\n                </Actions>\\n            </SubStep>\\n            <SubStep number=\"6.3\">\\n                <Description>\\n                    Assess significance using Likelihood Ratio Tests and ANOVA.\\n                </Description>\\n                <Actions>\\n                    <Action>Perform LRT between the best model and null model.</Action>\\n                    <Action>Use Anova function for p-values of predictors.</Action>\\n                    <ExampleCode>\\n                        <![CDATA[\\n                        # Null model\\n                        null_model_richness <- glmer(WildBeeRichnessSt ~ 1 + (1|Island),\\n                                                    data=full_data, family=Gamma(link=\"log\"))\\n                        \\n                        # LRT\\n                        anova(null_model_richness, best_model)\\n                        \\n                        # ANOVA for predictors\\n                        library(car)\\n                        Anova(best_model, type=\"II\")\\n                        ]]>\\n                    </ExampleCode>\\n                </Actions>\\n            </SubStep>\\n            <SubStep number=\"6.4\">\\n                <Description>\\n                    Calculate R² for the best models.\\n                </Description>\\n                <Actions>\\n                    <Action>Use r2beta function to obtain R² values.</Action>\\n                    <ExampleCode>\\n                        <![CDATA[\\n                        library(r2glmm)\\n                        r2beta(best_model, method=\"latent\")\\n                        r2beta(best_model_abundance, method=\"latent\")\\n                        ]]>\\n                    </ExampleCode>\\n                </Actions>\\n            </SubStep>\\n        </SubSteps>\\n    </Step>\\n\\n    <Step number=\"7\">\\n        <Description>\\n            Piecewise Structural Equation Modeling (SEM) for Hypothesis 3.\\n        </Description>\\n        <Actions>\\n            <Action>Define the SEM paths based on the hypotheses.</Action>\\n            <Action>Specify the SEM using piecewiseSEM package with appropriate distributions.</Action>\\n            <Action>Fit the SEM model and assess global goodness-of-fit.</Action>\\n            <ExampleCode>\\n                <![CDATA[\\n                library(piecewiseSEM)\\n                # Example SEM structure\\n                sem_model <- psem(\\n                    glmer(WildBeeRichnessSt ~ HoneyBeeVisitationRate + FlowerAbundance + FlowerRichness + LandscapeHeterogeneity + Areakm2 + `%NaturalHabitats` + (1|Island), \\n                          data=full_data, family=Gamma(link=\"log\")),\\n                    glmer(WildBeeAbundanceSt ~ HoneyBeeVisitationRate + FlowerAbundance + FlowerRichness + LandscapeHeterogeneity + Areakm2 + `%NaturalHabitats` + (1|Island), \\n                          data=full_data, family=Gamma(link=\"log\")),\\n                    # Add other relationships as needed\\n                )\\n                \\n                # Fit SEM\\n                summary(sem_model, fit.measures=TRUE)\\n                \\n                # Goodness-of-fit\\n                sem.gof <- psem(\\n                    glmer(...),\\n                    ...\\n                )\\n                summary(sem.gof)\\n                ]]>\\n            </ExampleCode>\\n        </Actions>\\n    </Step>\\n\\n    <Step number=\"8\">\\n        <Description>\\n            Pollination Network Analysis.\\n        </Description>\\n        <Actions>\\n            <Action>Create pollination networks using the bipartite package.</Action>\\n            <Action>Calculate network indices: number of links, plant species, linkage density, nestedness, modularity.</Action>\\n            <Action>Compare indices against null models using vaznull for z-scores.</Action>\\n            <ExampleCode>\\n                <![CDATA[\\n                library(bipartite)\\n                # Create a bipartite matrix\\n                library(reshape2)\\n                network_matrix <- acast(full_data, PlantSpecies ~ InsectSpecies, value.var=\"InteractionCount\", fill=0)\\n                \\n                # Calculate indices\\n                network_indices <- networklevel(network_matrix, index=c(\"links\", \"species.level\", \"linkage.density\", \"nestedness\", \"modularity\"))\\n                \\n                # Calculate z-scores using vaznull\\n                null_model <- vaznull(network_matrix)\\n                z_scores <- networklevel(null_model, index=c(\"linkage.density\", \"nestedness\", \"modularity\"))\\n                ]]>\\n            </ExampleCode>\\n        </Actions>\\n    </Step>\\n\\n    <Step number=\"9\">\\n        <Description>\\n            Potential Competition Analysis.\\n        </Description>\\n        <Actions>\\n            <Action>Calculate the Apparent Competition Index using the PAC function.</Action>\\n            <Action>Analyze potential resource competition between honey bees and wild bees.</Action>\\n            <ExampleCode>\\n                <![CDATA[\\n                library(PAC)\\n                # Assuming \\'full_data\\' contains necessary columns\\n                pac_results <- PAC(full_data$HoneyBeeVisitationRate, full_data$WildBeeAbundanceSt)\\n                summary(pac_results)\\n                ]]>\\n            </ExampleCode>\\n        </Actions>\\n    </Step>\\n\\n    <Step number=\"10\">\\n        <Description>\\n            A Posteriori Tests for Differences Between Slopes for Each Wild Bee Family.\\n        </Description>\\n        <Actions>\\n            <Action>Use the emtrends function from emmeans package to test slope differences.</Action>\\n            <Action>Compare the effects of Honey Bee Visitation Rate across different bee families.</Action>\\n            <ExampleCode>\\n                <![CDATA[\\n                library(emmeans)\\n                # Fit a model including interaction between HoneyBeeVisitationRate and family\\n                model_family <- glmer(WildBeeAbundanceSt ~ HoneyBeeVisitationRate * family + FlowerAbundance + FlowerRichness + (1|Island),\\n                                      data=full_data, family=Gamma(link=\"log\"))\\n                \\n                # Perform emtrends for slope differences\\n                emtrends_results <- emtrends(model_family, pairwise ~ family, var=\"HoneyBeeVisitationRate\")\\n                summary(emtrends_results)\\n                ]]>\\n            </ExampleCode>\\n        </Actions>\\n    </Step>\\n\\n    <Step number=\"11\">\\n        <Description>\\n            Validate Model Assumptions and Perform Diagnostics.\\n        </Description>\\n        <Actions>\\n            <Action>Check residuals for GLMMs to ensure no patterns indicating model misfit.</Action>\\n            <Action>Assess normality and homoscedasticity where applicable.</Action>\\n            <ExampleCode>\\n                <![CDATA[\\n                # Residual plots for best_model\\n                par(mfrow=c(2,2))\\n                plot(best_model)\\n                \\n                # Check for overdispersion\\n                overdisp_fun <- function(model) {\\n                    rdf <- df.residual(model)\\n                    rp <- residuals(model, type=\"pearson\")\\n                    Pearson.chisq <- sum(rp^2)\\n                    prat <- Pearson.chisq / rdf\\n                    pval <- pchisq(Pearson.chisq, df=rdf, lower.tail=FALSE)\\n                    return(c(chisq=Pearson.chisq, ratio=prat, p=pval))\\n                }\\n                overdisp_fun(best_model)\\n                ]]>\\n            </ExampleCode>\\n        </Actions>\\n    </Step>\\n\\n    <Step number=\"12\">\\n        <Description>\\n            Interpret and Report the Results.\\n        </Description>\\n        <Actions>\\n            <Action>Summarize the findings from GLMMs, SEM, Pollination Network Analysis, and PAC.</Action>\\n            <Action>Discuss the implications of high honey bee visitation on wild bee diversity and pollination networks.</Action>\\n            <Action>Include R² values, significance levels, and effect sizes in the report.</Action>\\n        </Actions>\\n    </Step>\\n</AnalysisPlan>\\n```'"
      ]
     },
     "execution_count": 87,
     "metadata": {},
     "output_type": "execute_result"
    }
   ],
   "source": [
    "plan_analyses_xml"
   ]
  }
 ],
 "metadata": {
  "kernelspec": {
   "display_name": "dev",
   "language": "python",
   "name": "python3"
  },
  "language_info": {
   "codemirror_mode": {
    "name": "ipython",
    "version": 3
   },
   "file_extension": ".py",
   "mimetype": "text/x-python",
   "name": "python",
   "nbconvert_exporter": "python",
   "pygments_lexer": "ipython3",
   "version": "3.10.12"
  }
 },
 "nbformat": 4,
 "nbformat_minor": 2
}
