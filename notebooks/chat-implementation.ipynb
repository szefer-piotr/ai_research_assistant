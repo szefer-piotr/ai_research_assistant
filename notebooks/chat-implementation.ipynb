{
 "cells": [
  {
   "cell_type": "code",
   "execution_count": 1,
   "metadata": {},
   "outputs": [],
   "source": [
    "#Role of the model.\n",
    "ROLE = \"/home/piotr/projects/ai_research_assistant/prompts/plan-generation-role.txt\"\n",
    "\n",
    "#Provided by the user to a chat window\n",
    "HYPOTHESES = \"\"\n",
    "\n",
    "#Summary of the dataset.\n",
    "DATASET_SUMMARY =  \"\"\n",
    "\n",
    "#Requirements regarding the model's response.\n",
    "SYSTEM_PROMPT = \"plan-generation-system-prompt.txt\"\n",
    "\n",
    "#The task the model is expected to perform.\n",
    "TASK = \"Prepare a **DETAILED** plan of statistical analyses that will test the **provided hypotheses**.\"\n"
   ]
  },
  {
   "cell_type": "code",
   "execution_count": null,
   "metadata": {},
   "outputs": [],
   "source": [
    "# import pandas as pd\n",
    "# from openai import OpenAI\n",
    "# df = pd.read_csv(\"titanic.csv\")\n",
    "# df_summary = str(df.describe())\n",
    "# client = OpenAI()\n",
    "# completion = client.chat.completions.create(\n",
    "#     model=\"gpt-3.5-turbo\",\n",
    "#     messages=[\n",
    "#         {\"role\": \"system\", \"content\": f\"You are an assistant capable of generating new synthetic data observations based on the following descriptive statistics: {df_summary}\"},\n",
    "#         {\"role\": \"user\", \"content\": \"Generate 10 synthetic data observations.\"}\n",
    "#     ]\n",
    "# )\n",
    "# print(completion.choices[0].message.content)"
   ]
  },
  {
   "cell_type": "code",
   "execution_count": 2,
   "metadata": {},
   "outputs": [
    {
     "name": "stderr",
     "output_type": "stream",
     "text": [
      "2025-02-28 11:20:07.078 WARNING streamlit.runtime.scriptrunner_utils.script_run_context: Thread 'MainThread': missing ScriptRunContext! This warning can be ignored when running in bare mode.\n",
      "2025-02-28 11:20:07.592 \n",
      "  \u001b[33m\u001b[1mWarning:\u001b[0m to view this Streamlit app on a browser, run it with the following\n",
      "  command:\n",
      "\n",
      "    streamlit run /home/piotr/projects/ai_research_assistant/dev/lib/python3.10/site-packages/ipykernel_launcher.py [ARGUMENTS]\n",
      "2025-02-28 11:20:07.593 Thread 'MainThread': missing ScriptRunContext! This warning can be ignored when running in bare mode.\n",
      "2025-02-28 11:20:07.594 Thread 'MainThread': missing ScriptRunContext! This warning can be ignored when running in bare mode.\n",
      "2025-02-28 11:20:07.594 Session state does not function when running a script without `streamlit run`\n",
      "2025-02-28 11:20:07.595 Thread 'MainThread': missing ScriptRunContext! This warning can be ignored when running in bare mode.\n",
      "2025-02-28 11:20:07.595 Thread 'MainThread': missing ScriptRunContext! This warning can be ignored when running in bare mode.\n",
      "2025-02-28 11:20:07.596 Thread 'MainThread': missing ScriptRunContext! This warning can be ignored when running in bare mode.\n"
     ]
    }
   ],
   "source": [
    "import streamlit as st\n",
    "\n",
    "st.title(\"AI Research Assistant\")\n",
    "\n",
    "if \"message\" not in st.session_state:\n",
    "    st.session_state.message = []\n",
    "\n",
    "for message in st.session_state.message:\n",
    "    with st.chat_message(message[\"role\"]):\n",
    "        st.markdown(message[\"content\"])"
   ]
  },
  {
   "cell_type": "code",
   "execution_count": null,
   "metadata": {},
   "outputs": [],
   "source": []
  },
  {
   "cell_type": "code",
   "execution_count": null,
   "metadata": {},
   "outputs": [],
   "source": []
  },
  {
   "cell_type": "code",
   "execution_count": null,
   "metadata": {},
   "outputs": [],
   "source": []
  }
 ],
 "metadata": {
  "kernelspec": {
   "display_name": "dev",
   "language": "python",
   "name": "python3"
  },
  "language_info": {
   "codemirror_mode": {
    "name": "ipython",
    "version": 3
   },
   "file_extension": ".py",
   "mimetype": "text/x-python",
   "name": "python",
   "nbconvert_exporter": "python",
   "pygments_lexer": "ipython3",
   "version": "3.10.12"
  }
 },
 "nbformat": 4,
 "nbformat_minor": 2
}
